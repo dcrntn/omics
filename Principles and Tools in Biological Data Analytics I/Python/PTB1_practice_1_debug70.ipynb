{
 "cells": [
  {
   "cell_type": "markdown",
   "id": "6d156282",
   "metadata": {},
   "source": [
    "# 🐍 Beginner Python Practice Notebook for Principles and Tools in Biological Data Analytics I\n",
    "\n",
    "This notebook contains beginner exercises covering the material from the first two lectures. (And a bit more)\n",
    "\n",
    "The primary task is to identify and fix errors — both logical and syntax-based — that are present in the code. Additionally, there are sections where the solution code is entirely missing; for those, you will need to write the complete solution based on the exercise description. \n",
    "\n",
    "**Instructions:**\n",
    "\n",
    "1.  Read the **Task** for the exercise.\n",
    "2.  **Correct** the given Code so it runs, or if the Code cell is empty write your **Solution** in the following empty Code cell. And don't forget to run the cells, before testing!\n",
    "3.  Run the **Test & Solution** Code cell below your solution. If an `AssertionError` is raised, your solution is incorrect. If nothing is printed (or a 'Success!' message appears), your code is working as expected.\n",
    "\n",
    "**Note**\n",
    "For each exercise, you only need to focus on the first Code cell. The second cell, labeled Test & Solution, is just there for you to check your work after you're done.\n",
    "\n",
    "Good luck and happy coding! 💻"
   ]
  },
  {
   "cell_type": "markdown",
   "id": "cac142f9",
   "metadata": {},
   "source": [
    "## Part 1: Basic Data Types and Operators (Exercises 1-10)"
   ]
  },
  {
   "cell_type": "markdown",
   "id": "0fd233a3",
   "metadata": {},
   "source": [
    "### Exercise 1: Integer Addition\n",
    "**Task:** Create two integer variables, `num1` set to 15 and `num2` set to 7. Calculate their sum and assign it to a variable called `sum_result`."
   ]
  },
  {
   "cell_type": "code",
   "execution_count": null,
   "id": "e57e69d8",
   "metadata": {
    "jupyter": {
     "source_hidden": true
    }
   },
   "outputs": [],
   "source": [
    "# Fix your Solution for Exercise 1 Here\n",
    "num1 = 15\n",
    "num2 = 7\n",
    "sum_result = num1 * num2"
   ]
  },
  {
   "cell_type": "code",
   "execution_count": null,
   "id": "e128e5cd",
   "metadata": {
    "jupyter": {
     "source_hidden": true
    }
   },
   "outputs": [],
   "source": [
    "# Test & Solution 1\n",
    "assert 'sum_result' in locals(), \"Variable sum_result not defined.\"\n",
    "assert isinstance(sum_result, int), \"sum_result should be an integer.\"\n",
    "assert sum_result == 22, f\"Expected 22, but got {sum_result}\"\n",
    "print(\"Exercise 1: Success!\")"
   ]
  },
  {
   "cell_type": "markdown",
   "id": "e0bd02ed",
   "metadata": {},
   "source": [
    "### Exercise 2: Float Division\n",
    "**Task:** Divide 100 by 3 using standard division and store the result in `float_result`."
   ]
  },
  {
   "cell_type": "code",
   "execution_count": null,
   "id": "fd0c5d24",
   "metadata": {
    "jupyter": {
     "source_hidden": true
    }
   },
   "outputs": [],
   "source": [
    "# Fix your Solution for Exercise 2 Here\n",
    "float_result = 100 / 6"
   ]
  },
  {
   "cell_type": "code",
   "execution_count": null,
   "id": "d9644e12",
   "metadata": {
    "jupyter": {
     "source_hidden": true
    }
   },
   "outputs": [],
   "source": [
    "# Test & Solution 2\n",
    "assert isinstance(float_result, float), \"float_result should be a float.\"\n",
    "assert abs(float_result - 33.333333333333336) < 1e-9, \"Incorrect division result.\"\n",
    "print(\"Exercise 2: Success!\")"
   ]
  },
  {
   "cell_type": "markdown",
   "id": "9773a309",
   "metadata": {},
   "source": [
    "### Exercise 3: Integer Division\n",
    "**Task:** Divide 100 by 3 using integer division and store the result in `int_div_result`."
   ]
  },
  {
   "cell_type": "code",
   "execution_count": null,
   "id": "6f4d0168",
   "metadata": {
    "jupyter": {
     "source_hidden": true
    }
   },
   "outputs": [],
   "source": [
    "# Fix your Solution for Exercise 3 Here\n",
    "int_div_result = 100 / 3"
   ]
  },
  {
   "cell_type": "code",
   "execution_count": null,
   "id": "766067c2",
   "metadata": {
    "jupyter": {
     "source_hidden": true
    }
   },
   "outputs": [],
   "source": [
    "# Test & Solution 3\n",
    "assert isinstance(int_div_result, int), \"int_div_result should be an integer.\"\n",
    "assert int_div_result == 33, \"Incorrect integer division result.\"\n",
    "print(\"Exercise 3: Success!\")"
   ]
  },
  {
   "cell_type": "markdown",
   "id": "b5e4e065",
   "metadata": {},
   "source": [
    "### Exercise 4: Modulo Operator\n",
    "**Task:** Find the remainder when 25 is divided by 4. Store the result in `remainder`."
   ]
  },
  {
   "cell_type": "code",
   "execution_count": null,
   "id": "81746d26",
   "metadata": {
    "jupyter": {
     "source_hidden": true
    }
   },
   "outputs": [],
   "source": [
    "# Fix your Solution for Exercise 4 Here\n",
    "remainder = 25 %% 4"
   ]
  },
  {
   "cell_type": "code",
   "execution_count": null,
   "id": "e6d43ce0",
   "metadata": {
    "jupyter": {
     "source_hidden": true
    }
   },
   "outputs": [],
   "source": [
    "# Test & Solution 4\n",
    "assert remainder == 1, \"Incorrect remainder.\"\n",
    "print(\"Exercise 4: Success!\")"
   ]
  },
  {
   "cell_type": "markdown",
   "id": "48c05a4f",
   "metadata": {},
   "source": [
    "### Exercise 5: Exponentiation\n",
    "**Task:** Calculate 2 raised to the power of 8. Store the result in `power_of_two`."
   ]
  },
  {
   "cell_type": "code",
   "execution_count": null,
   "id": "ecb6ef35",
   "metadata": {
    "jupyter": {
     "source_hidden": true
    }
   },
   "outputs": [],
   "source": [
    "# Fix your Solution for Exercise 5 Here\n",
    "power_of_two = 8 ** 2"
   ]
  },
  {
   "cell_type": "code",
   "execution_count": null,
   "id": "8dcdf158",
   "metadata": {
    "jupyter": {
     "source_hidden": true
    }
   },
   "outputs": [],
   "source": [
    "# Test & Solution 5\n",
    "assert power_of_two == 256, \"Incorrect exponentiation result.\"\n",
    "print(\"Exercise 5: Success!\")"
   ]
  },
  {
   "cell_type": "markdown",
   "id": "7a398951",
   "metadata": {},
   "source": [
    "### Exercise 6: Boolean Logic (AND)\n",
    "**Task:** Store the result of `(5 > 3) AND (10 < 20)` in a variable named `and_result`."
   ]
  },
  {
   "cell_type": "code",
   "execution_count": null,
   "id": "10a4d348",
   "metadata": {
    "jupyter": {
     "source_hidden": true
    }
   },
   "outputs": [],
   "source": [
    "# Fix your Solution for Exercise 6 Here\n",
    "and_result = (5 > 3) AND (10 < 20)"
   ]
  },
  {
   "cell_type": "code",
   "execution_count": null,
   "id": "a58190fb",
   "metadata": {
    "jupyter": {
     "source_hidden": true
    }
   },
   "outputs": [],
   "source": [
    "# Test & Solution 6\n",
    "assert and_result == True, \"Expected True.\"\n",
    "print(\"Exercise 6: Success!\")"
   ]
  },
  {
   "cell_type": "markdown",
   "id": "5841b22b",
   "metadata": {},
   "source": [
    "### Exercise 7: Boolean Logic (OR)\n",
    "**Task:** Store the result of `(10 == 5) OR (10 != 5)` in a variable named `or_result`."
   ]
  },
  {
   "cell_type": "code",
   "execution_count": null,
   "id": "e514cd2b",
   "metadata": {
    "jupyter": {
     "source_hidden": true
    }
   },
   "outputs": [],
   "source": [
    "# Fix your Solution for Exercise 7 Here\n",
    "or_result == (10 == 5)  (10 != 5)"
   ]
  },
  {
   "cell_type": "code",
   "execution_count": null,
   "id": "0772d3a6",
   "metadata": {
    "jupyter": {
     "source_hidden": true
    }
   },
   "outputs": [],
   "source": [
    "# Test & Solution 7\n",
    "assert or_result == True, \"Expected True.\"\n",
    "print(\"Exercise 7: Success!\")"
   ]
  },
  {
   "cell_type": "markdown",
   "id": "efa77684",
   "metadata": {},
   "source": [
    "### Exercise 8: Boolean Logic (NOT)\n",
    "**Task:** Store the result of `NOT (3 > 5)` in a variable named `not_result`."
   ]
  },
  {
   "cell_type": "code",
   "execution_count": null,
   "id": "2bf6cdc4",
   "metadata": {
    "jupyter": {
     "source_hidden": true
    }
   },
   "outputs": [],
   "source": [
    "# Your Solution for Exercise 8 Here\n"
   ]
  },
  {
   "cell_type": "code",
   "execution_count": null,
   "id": "a5958bbb",
   "metadata": {
    "jupyter": {
     "source_hidden": true
    }
   },
   "outputs": [],
   "source": [
    "# Test & Solution 8\n",
    "assert not_result == True, \"Expected True.\"\n",
    "print(\"Exercise 8: Success!\")"
   ]
  },
  {
   "cell_type": "markdown",
   "id": "b8fce10a",
   "metadata": {},
   "source": [
    "### Exercise 9: Type Conversion (String to Int)\n",
    "**Task:** Convert the string variable `age_str = \"30\"` to an integer and store it in `age_int`."
   ]
  },
  {
   "cell_type": "code",
   "execution_count": null,
   "id": "6015063c",
   "metadata": {
    "jupyter": {
     "source_hidden": true
    }
   },
   "outputs": [],
   "source": [
    "# Fix your Solution for Exercise 9 Here\n",
    "age_str = \"33\"\n",
    "age_int = int(age_srt)"
   ]
  },
  {
   "cell_type": "code",
   "execution_count": null,
   "id": "c55c344c",
   "metadata": {
    "jupyter": {
     "source_hidden": true
    }
   },
   "outputs": [],
   "source": [
    "# Test & Solution 9\n",
    "assert isinstance(age_int, int), \"age_int should be an integer.\"\n",
    "assert age_int == 30, \"Incorrect conversion.\"\n",
    "print(\"Exercise 9: Success!\")"
   ]
  },
  {
   "cell_type": "markdown",
   "id": "f6ec35ba",
   "metadata": {},
   "source": [
    "### Exercise 10: Mixed Arithmetic\n",
    "**Task:** Calculate the result of $5 + 2 * (10 - 3)$ and store it in `math_mix`."
   ]
  },
  {
   "cell_type": "code",
   "execution_count": null,
   "id": "8b2a771a",
   "metadata": {
    "jupyter": {
     "source_hidden": true
    }
   },
   "outputs": [],
   "source": [
    "# Fix your Solution for Exercise 10 Here\n",
    "math_mix = 5 + 2 * 10 - 3"
   ]
  },
  {
   "cell_type": "code",
   "execution_count": null,
   "id": "59f8c627",
   "metadata": {
    "jupyter": {
     "source_hidden": true
    }
   },
   "outputs": [],
   "source": [
    "# Test & Solution 10\n",
    "assert math_mix == 19, \"Incorrect mixed arithmetic result.\"\n",
    "print(\"Exercise 10: Success!\")"
   ]
  },
  {
   "cell_type": "markdown",
   "id": "1535546a",
   "metadata": {},
   "source": [
    "---"
   ]
  },
  {
   "cell_type": "markdown",
   "id": "3414fe0e",
   "metadata": {},
   "source": [
    "## Part 2: Strings (Exercises 11-20)"
   ]
  },
  {
   "cell_type": "markdown",
   "id": "8eb11a59",
   "metadata": {},
   "source": [
    "### Exercise 11: String Concatenation\n",
    "**Task:** Concatenate the strings `\"Hello\"` and `\" World\"` (note the space) and store the result in `greeting`."
   ]
  },
  {
   "cell_type": "code",
   "execution_count": null,
   "id": "0853f7dc",
   "metadata": {
    "jupyter": {
     "source_hidden": true
    }
   },
   "outputs": [],
   "source": [
    "# Fix your Solution for Exercise 11 Here\n",
    "greetings = \"Hello\" + \"Word\""
   ]
  },
  {
   "cell_type": "code",
   "execution_count": null,
   "id": "e04bbffa",
   "metadata": {
    "jupyter": {
     "source_hidden": true
    }
   },
   "outputs": [],
   "source": [
    "# Test & Solution 11\n",
    "assert greeting == \"Hello World\", \"Incorrect concatenation.\"\n",
    "print(\"Exercise 11: Success!\")"
   ]
  },
  {
   "cell_type": "markdown",
   "id": "2084f5ac",
   "metadata": {},
   "source": [
    "### Exercise 12: String Length\n",
    "**Task:** Find the length of the string `phrase = \"Python is fun\"` and store it in `phrase_length`."
   ]
  },
  {
   "cell_type": "code",
   "execution_count": null,
   "id": "da0636e0",
   "metadata": {
    "jupyter": {
     "source_hidden": true
    }
   },
   "outputs": [],
   "source": [
    "# Fix your Solution for Exercise 12 Here\n",
    "phrase = \"Python is fun!!\"\n",
    "phrase_length = len(phrase)"
   ]
  },
  {
   "cell_type": "code",
   "execution_count": null,
   "id": "8708f007",
   "metadata": {
    "jupyter": {
     "source_hidden": true
    }
   },
   "outputs": [],
   "source": [
    "# Test & Solution 12\n",
    "assert phrase_length == 13, \"Incorrect length.\"\n",
    "print(\"Exercise 12: Success!\")"
   ]
  },
  {
   "cell_type": "markdown",
   "id": "f4c40806",
   "metadata": {},
   "source": [
    "### Exercise 13: String Slicing (Start)\n",
    "**Task:** Extract the first 6 characters from `word = \"Programming\"` and store it in `first_part`."
   ]
  },
  {
   "cell_type": "code",
   "execution_count": null,
   "id": "7f748ad7",
   "metadata": {
    "jupyter": {
     "source_hidden": true
    }
   },
   "outputs": [],
   "source": [
    "# Fix your Solution for Exercise 13 Here\n",
    "word = \" Programming\"\n",
    "first_part = word[:6]"
   ]
  },
  {
   "cell_type": "code",
   "execution_count": null,
   "id": "eb800f8a",
   "metadata": {
    "jupyter": {
     "source_hidden": true
    }
   },
   "outputs": [],
   "source": [
    "# Test & Solution 13\n",
    "assert first_part == \"Progra\", \"Incorrect slice.\"\n",
    "print(\"Exercise 13: Success!\")"
   ]
  },
  {
   "cell_type": "markdown",
   "id": "6009ad84",
   "metadata": {},
   "source": [
    "### Exercise 14: String Slicing (End)\n",
    "**Task:** Extract the last 5 characters from `word = \"Programming\"` and store it in `last_part`."
   ]
  },
  {
   "cell_type": "code",
   "execution_count": null,
   "id": "a8e974e3",
   "metadata": {
    "jupyter": {
     "source_hidden": true
    }
   },
   "outputs": [],
   "source": [
    "# Fix your Solution for Exercise 14 Here\n",
    "word = \"Programming\"\n",
    "last_part = word[-3:]"
   ]
  },
  {
   "cell_type": "code",
   "execution_count": null,
   "id": "125f07d1",
   "metadata": {
    "jupyter": {
     "source_hidden": true
    }
   },
   "outputs": [],
   "source": [
    "# Test & Solution 14\n",
    "assert last_part == \"mming\", \"Incorrect slice.\"\n",
    "print(\"Exercise 14: Success!\")"
   ]
  },
  {
   "cell_type": "markdown",
   "id": "adb6b593",
   "metadata": {},
   "source": [
    "### Exercise 15: String Indexing\n",
    "**Task:** Access the the fifth character of `data = \"Sequence\"` and store it in `fifth_char`. Mind where python starts addressing!"
   ]
  },
  {
   "cell_type": "code",
   "execution_count": null,
   "id": "3a9cd68c",
   "metadata": {
    "jupyter": {
     "source_hidden": true
    }
   },
   "outputs": [],
   "source": [
    "# Fix your Solution for Exercise 15 Here\n",
    "data = \"Sequence\"\n",
    "fifth_char = data[5]"
   ]
  },
  {
   "cell_type": "code",
   "execution_count": null,
   "id": "bbc34c03",
   "metadata": {
    "jupyter": {
     "source_hidden": true
    }
   },
   "outputs": [],
   "source": [
    "# Test & Solution 15\n",
    "assert fifth_char == \"e\", \"Incorrect index access.\"\n",
    "print(\"Exercise 15: Success!\")"
   ]
  },
  {
   "cell_type": "markdown",
   "id": "5ef97c9f",
   "metadata": {},
   "source": [
    "### Exercise 16: String Methods (Uppercase)\n",
    "**Task:** Convert `text = \"make me upper\"` to all uppercase and store it in `upper_text`."
   ]
  },
  {
   "cell_type": "code",
   "execution_count": null,
   "id": "29939bb5",
   "metadata": {
    "jupyter": {
     "source_hidden": true
    }
   },
   "outputs": [],
   "source": [
    "# Fix your Solution for Exercise 16 Here\n",
    "text = \"make me upper\"\n",
    "upper_text  text.upper()"
   ]
  },
  {
   "cell_type": "code",
   "execution_count": null,
   "id": "099a028d",
   "metadata": {
    "jupyter": {
     "source_hidden": true
    }
   },
   "outputs": [],
   "source": [
    "# Test & Solution 16\n",
    "assert upper_text == \"MAKE ME UPPER\", \"Incorrect conversion.\"\n",
    "print(\"Exercise 16: Success!\")"
   ]
  },
  {
   "cell_type": "markdown",
   "id": "591ab578",
   "metadata": {},
   "source": [
    "### Exercise 17: String Methods (Lowercase)\n",
    "**Task:** Convert `text = \"MAKE ME LOWER\"` to all lowercase and store it in `lower_text`."
   ]
  },
  {
   "cell_type": "code",
   "execution_count": null,
   "id": "93069c3d",
   "metadata": {
    "jupyter": {
     "source_hidden": true
    }
   },
   "outputs": [],
   "source": [
    "# Fix your Solution for Exercise 17 Here\n",
    "text = \"MAKE ME LOWER\"\n",
    "lower_text = text.lower"
   ]
  },
  {
   "cell_type": "code",
   "execution_count": null,
   "id": "71b46e15",
   "metadata": {
    "jupyter": {
     "source_hidden": true
    }
   },
   "outputs": [],
   "source": [
    "# Test & Solution 17\n",
    "assert lower_text == \"make me lower\", \"Incorrect conversion.\"\n",
    "print(\"Exercise 17: Success!\")"
   ]
  },
  {
   "cell_type": "markdown",
   "id": "f1922d5c",
   "metadata": {},
   "source": [
    "### Exercise 18: String Methods (Replace)\n",
    "**Task:** In `sentence = \"I love apples\"`, replace `\"apples\"` with `\"Python\"` and store the result in `new_sentence`."
   ]
  },
  {
   "cell_type": "code",
   "execution_count": null,
   "id": "562e23d6",
   "metadata": {
    "jupyter": {
     "source_hidden": true
    }
   },
   "outputs": [],
   "source": [
    "# Fix your Solution for Exercise 18 Here\n",
    "sentence = \"I love apples\"\n",
    "new_sentence = sentence.replace(\"apples\" \"Python\")"
   ]
  },
  {
   "cell_type": "code",
   "execution_count": null,
   "id": "09995e06",
   "metadata": {
    "jupyter": {
     "source_hidden": true
    }
   },
   "outputs": [],
   "source": [
    "# Test & Solution 18\n",
    "assert new_sentence == \"I love Python\", \"Incorrect replacement.\"\n",
    "print(\"Exercise 18: Success!\")"
   ]
  },
  {
   "cell_type": "markdown",
   "id": "a90cb669",
   "metadata": {},
   "source": [
    "### Exercise 19: String Formatting (f-string)\n",
    "**Task:** Use an f-string to create the phrase `\"My name is Alex and I am 25 years old.\"` using `name = \"Alex\"` and `age = 25`. Store it in `f_string_result`."
   ]
  },
  {
   "cell_type": "code",
   "execution_count": null,
   "id": "b24f98cd",
   "metadata": {
    "jupyter": {
     "source_hidden": true
    }
   },
   "outputs": [],
   "source": [
    "# Fix your Solution for Exercise 19 Here\n",
    "name = \"Alexis\"\n",
    "age = 25.22\n",
    "f_string_result = f\"My name is {name} and I am {age} years old.\""
   ]
  },
  {
   "cell_type": "code",
   "execution_count": null,
   "id": "a698c3a9",
   "metadata": {
    "jupyter": {
     "source_hidden": true
    }
   },
   "outputs": [],
   "source": [
    "# Test & Solution 19\n",
    "assert f_string_result == \"My name is Alex and I am 25 years old.\", \"Incorrect f-string formatting.\"\n",
    "print(\"Exercise 19: Success!\")"
   ]
  },
  {
   "cell_type": "markdown",
   "id": "6357dedc",
   "metadata": {},
   "source": [
    "### Exercise 20: String Split\n",
    "**Task:** Split the string `data = \"a,b,c,d\"` by the comma delimiter and store the resulting list in `split_list`."
   ]
  },
  {
   "cell_type": "code",
   "execution_count": null,
   "id": "bcedf421",
   "metadata": {
    "jupyter": {
     "source_hidden": true
    }
   },
   "outputs": [],
   "source": [
    "# Fix your Solution for Exercise 20 Here\n",
    "data = \"a,b.c;d\"\n",
    "split_list = data.split(',')"
   ]
  },
  {
   "cell_type": "code",
   "execution_count": null,
   "id": "0544ff49",
   "metadata": {
    "jupyter": {
     "source_hidden": true
    }
   },
   "outputs": [],
   "source": [
    "# Test & Solution 20\n",
    "assert split_list == ['a', 'b', 'c', 'd'], \"Incorrect split.\"\n",
    "print(\"Exercise 20: Success!\")"
   ]
  },
  {
   "cell_type": "markdown",
   "id": "e745f31a",
   "metadata": {},
   "source": [
    "---"
   ]
  },
  {
   "cell_type": "markdown",
   "id": "bf4903ae",
   "metadata": {},
   "source": [
    "## Part 3: Lists (Exercises 21-30)"
   ]
  },
  {
   "cell_type": "markdown",
   "id": "960cbf51",
   "metadata": {},
   "source": [
    "### Exercise 21: List Creation and Access\n",
    "**Task:** Create a list `my_list` containing the integers 1, 2, 3, 4, 5. Then access the element at index 2 (the value 3) and store it in `third_element`."
   ]
  },
  {
   "cell_type": "code",
   "execution_count": null,
   "id": "4e7e4248",
   "metadata": {
    "jupyter": {
     "source_hidden": true
    }
   },
   "outputs": [],
   "source": [
    "# Fix your Solution for Exercise 21 Here\n",
    "my_list = [2, 3, 4, 5]\n",
    "third_element = my_list[3]"
   ]
  },
  {
   "cell_type": "code",
   "execution_count": null,
   "id": "4de2ae25",
   "metadata": {
    "jupyter": {
     "source_hidden": true
    }
   },
   "outputs": [],
   "source": [
    "# Test & Solution 21\n",
    "assert third_element == 3, \"Incorrect element access.\"\n",
    "print(\"Exercise 21: Success!\")"
   ]
  },
  {
   "cell_type": "markdown",
   "id": "9cee3b5b",
   "metadata": {},
   "source": [
    "### Exercise 22: List Append\n",
    "**Task:** Start with `numbers = [10, 20, 30]`. Append the number 40 to the end of the list."
   ]
  },
  {
   "cell_type": "code",
   "execution_count": null,
   "id": "2bb1951b",
   "metadata": {
    "jupyter": {
     "source_hidden": true
    }
   },
   "outputs": [],
   "source": [
    "# Fix your Solution for Exercise 22 Here\n",
    "numbers = (10, 20, 30)\n",
    "numbers.append(40)"
   ]
  },
  {
   "cell_type": "code",
   "execution_count": null,
   "id": "f15aea6d",
   "metadata": {
    "jupyter": {
     "source_hidden": true
    }
   },
   "outputs": [],
   "source": [
    "# Test & Solution 22\n",
    "assert numbers == [10, 20, 30, 40], \"Incorrect list after append.\"\n",
    "print(\"Exercise 22: Success!\")"
   ]
  },
  {
   "cell_type": "markdown",
   "id": "0908011b",
   "metadata": {},
   "source": [
    "### Exercise 23: List Modification\n",
    "**Task:** Change the second element (index 1) of `colors = ['red', 'green', 'blue']` to `'yellow'`."
   ]
  },
  {
   "cell_type": "code",
   "execution_count": null,
   "id": "499278e1",
   "metadata": {
    "jupyter": {
     "source_hidden": true
    }
   },
   "outputs": [],
   "source": [
    "# Fix your Solution for Exercise 23 Here\n",
    "colors = ['red', 'green', 'blue']\n",
    "color[1] = 'yellow"
   ]
  },
  {
   "cell_type": "code",
   "execution_count": null,
   "id": "c9bf1fe4",
   "metadata": {
    "jupyter": {
     "source_hidden": true
    }
   },
   "outputs": [],
   "source": [
    "# Test & Solution 23\n",
    "assert colors == ['red', 'yellow', 'blue'], \"Incorrect list modification.\"\n",
    "print(\"Exercise 23: Success!\")"
   ]
  },
  {
   "cell_type": "markdown",
   "id": "5d3e1923",
   "metadata": {},
   "source": [
    "### Exercise 24: List Remove\n",
    "**Task:** Remove the first occurrence of the value `\"banana\"` from `fruits = ['apple', 'banana', 'cherry', 'banana']`."
   ]
  },
  {
   "cell_type": "code",
   "execution_count": null,
   "id": "7520ba91",
   "metadata": {
    "jupyter": {
     "source_hidden": true
    }
   },
   "outputs": [],
   "source": [
    "# Fix your Solution for Exercise 24 Here\n",
    "fruits = ['apple', 'banana', 'cherry', 'banana']\n",
    "fruits.remove('banna')"
   ]
  },
  {
   "cell_type": "code",
   "execution_count": null,
   "id": "8c47d5e8",
   "metadata": {
    "jupyter": {
     "source_hidden": true
    }
   },
   "outputs": [],
   "source": [
    "# Test & Solution 24\n",
    "assert fruits == ['apple', 'cherry', 'banana'], \"Incorrect removal.\"\n",
    "print(\"Exercise 24: Success!\")"
   ]
  },
  {
   "cell_type": "markdown",
   "id": "c754a3b9",
   "metadata": {},
   "source": [
    "### Exercise 25: List Pop\n",
    "**Task:** Remove and store the last element of `stack = [1, 2, 3, 4]` in `last_item`."
   ]
  },
  {
   "cell_type": "code",
   "execution_count": null,
   "id": "ad0d012f",
   "metadata": {
    "jupyter": {
     "source_hidden": true
    }
   },
   "outputs": [],
   "source": [
    "# Fix your Solution for Exercise 25 Here\n",
    "stack = [1, 2, 3, 4, 6, 5]\n",
    "lastitem = stack.pop()"
   ]
  },
  {
   "cell_type": "code",
   "execution_count": null,
   "id": "87156fbe",
   "metadata": {
    "jupyter": {
     "source_hidden": true
    }
   },
   "outputs": [],
   "source": [
    "# Test & Solution 25\n",
    "assert last_item == 4, \"Incorrect popped item.\"\n",
    "assert stack == [1, 2, 3], \"List not updated correctly.\"\n",
    "print(\"Exercise 25: Success!\")"
   ]
  },
  {
   "cell_type": "markdown",
   "id": "be995836",
   "metadata": {},
   "source": [
    "### Exercise 26: List Slicing\n",
    "**Task:** Extract a slice from index 1 (inclusive) to index 4 (exclusive) from `data = ['A', 'B', 'C', 'D', 'E']` and store it in `sub_list`."
   ]
  },
  {
   "cell_type": "code",
   "execution_count": null,
   "id": "7e36aba4",
   "metadata": {
    "jupyter": {
     "source_hidden": true
    }
   },
   "outputs": [],
   "source": [
    "# Fix your Solution for Exercise 26 Here\n",
    "data = ['A', 'B', 'C', 'D', 'E']\n",
    "sub_list = data[0:4]"
   ]
  },
  {
   "cell_type": "code",
   "execution_count": null,
   "id": "84808331",
   "metadata": {
    "jupyter": {
     "source_hidden": true
    }
   },
   "outputs": [],
   "source": [
    "# Test & Solution 26\n",
    "assert sub_list == ['B', 'C', 'D'], \"Incorrect slice.\"\n",
    "print(\"Exercise 26: Success!\")"
   ]
  },
  {
   "cell_type": "markdown",
   "id": "bef2610c",
   "metadata": {},
   "source": [
    "### Exercise 27: List Sorting\n",
    "**Task:** Sort the list `unsorted = [5, 2, 8, 1, 9]` in ascending order **in place**."
   ]
  },
  {
   "cell_type": "code",
   "execution_count": null,
   "id": "a9cb4649",
   "metadata": {
    "jupyter": {
     "source_hidden": true
    }
   },
   "outputs": [],
   "source": [
    "# Your Solution for Exercise 27 Here\n"
   ]
  },
  {
   "cell_type": "code",
   "execution_count": null,
   "id": "77270938",
   "metadata": {
    "jupyter": {
     "source_hidden": true
    }
   },
   "outputs": [],
   "source": [
    "# Test & Solution 27\n",
    "assert unsorted == [1, 2, 5, 8, 9], \"List not sorted correctly.\"\n",
    "print(\"Exercise 27: Success!\")"
   ]
  },
  {
   "cell_type": "markdown",
   "id": "eb3b618f",
   "metadata": {},
   "source": [
    "### Exercise 28: List Reversal\n",
    "**Task:** Reverse the order of elements in `original = [1, 2, 3]` **in place**."
   ]
  },
  {
   "cell_type": "code",
   "execution_count": null,
   "id": "fcd8a557",
   "metadata": {
    "jupyter": {
     "source_hidden": true
    }
   },
   "outputs": [],
   "source": [
    "# Fix your Solution for Exercise 28 Here\n",
    "original = [1, 2, 3]\n",
    "original.reverse"
   ]
  },
  {
   "cell_type": "code",
   "execution_count": null,
   "id": "5c7f8216",
   "metadata": {
    "jupyter": {
     "source_hidden": true
    }
   },
   "outputs": [],
   "source": [
    "# Test & Solution 28\n",
    "assert original == [3, 2, 1], \"List not reversed correctly.\"\n",
    "print(\"Exercise 28: Success!\")"
   ]
  },
  {
   "cell_type": "markdown",
   "id": "66b5b845",
   "metadata": {},
   "source": [
    "### Exercise 29: List Concatenation\n",
    "**Task:** Combine `list_a = [1, 2]` and `list_b = [3, 4]` into a new list `combined_list`."
   ]
  },
  {
   "cell_type": "code",
   "execution_count": null,
   "id": "bfc66eea",
   "metadata": {
    "jupyter": {
     "source_hidden": true
    }
   },
   "outputs": [],
   "source": [
    "# Fix your Solution for Exercise 29 Here\n",
    "list_a = [1, 2]\n",
    "list_b = [3, 4]\n",
    "combined_list == list_a + list_b"
   ]
  },
  {
   "cell_type": "code",
   "execution_count": null,
   "id": "0446e5fe",
   "metadata": {
    "jupyter": {
     "source_hidden": true
    }
   },
   "outputs": [],
   "source": [
    "# Test & Solution 29\n",
    "assert combined_list == [1, 2, 3, 4], \"Lists not combined correctly.\"\n",
    "print(\"Exercise 29: Success!\")"
   ]
  },
  {
   "cell_type": "markdown",
   "id": "ee2a8ddc",
   "metadata": {},
   "source": [
    "### Exercise 30: Nested List Access\n",
    "**Task:** Access the number `9` from the nested list `matrix = [[1, 2], [7, 9], [3, 4]]` and store it in `nine`."
   ]
  },
  {
   "cell_type": "code",
   "execution_count": null,
   "id": "baee5587",
   "metadata": {
    "jupyter": {
     "source_hidden": true
    }
   },
   "outputs": [],
   "source": [
    "# Fix your Solution for Exercise 30 Here\n",
    "matrix = [[1, 2], [7, 91], [3, 4]]\n",
    "nine = matrix[1][1]"
   ]
  },
  {
   "cell_type": "code",
   "execution_count": null,
   "id": "727f1910",
   "metadata": {
    "jupyter": {
     "source_hidden": true
    }
   },
   "outputs": [],
   "source": [
    "# Test & Solution 30\n",
    "assert nine == 9, \"Incorrect access of nested element.\"\n",
    "print(\"Exercise 30: Success!\")"
   ]
  },
  {
   "cell_type": "markdown",
   "id": "53c8f15c",
   "metadata": {},
   "source": [
    "---"
   ]
  },
  {
   "cell_type": "markdown",
   "id": "56f5479c",
   "metadata": {},
   "source": [
    "## Part 4: Tuples, Sets, and Dictionaries (Exercises 31-40)"
   ]
  },
  {
   "cell_type": "markdown",
   "id": "5ee7a593",
   "metadata": {},
   "source": [
    "### Exercise 31: Tuple Creation and Access\n",
    "**Task:** Create a tuple `my_tuple` with elements `('a', 'b', 'c')`. Access the first element and store it in `first_tuple_element`."
   ]
  },
  {
   "cell_type": "code",
   "execution_count": null,
   "id": "9cc5771c",
   "metadata": {
    "jupyter": {
     "source_hidden": true
    }
   },
   "outputs": [],
   "source": [
    "# Fix your Solution for Exercise 31 Here\n",
    "my_tuple = ('a', 'b', 'c')\n",
    "first_tuple_element = my_tuple[1]"
   ]
  },
  {
   "cell_type": "code",
   "execution_count": null,
   "id": "b6fcb7a7",
   "metadata": {
    "jupyter": {
     "source_hidden": true
    }
   },
   "outputs": [],
   "source": [
    "# Test & Solution 31\n",
    "assert first_tuple_element == 'a', \"Incorrect tuple access.\"\n",
    "print(\"Exercise 31: Success!\")"
   ]
  },
  {
   "cell_type": "markdown",
   "id": "6a7e3e1c",
   "metadata": {},
   "source": [
    "### Exercise 32: Set Creation and Duplicates\n",
    "**Task:** Create a set `unique_set` from the list `['a', 'b', 'a', 'c']`."
   ]
  },
  {
   "cell_type": "code",
   "execution_count": null,
   "id": "12da065c",
   "metadata": {
    "jupyter": {
     "source_hidden": true
    }
   },
   "outputs": [],
   "source": [
    "# Fix your Solution for Exercise 32 Here\n",
    "unique_set = (['a', 'b', 'a', 'c'])"
   ]
  },
  {
   "cell_type": "code",
   "execution_count": null,
   "id": "02744944",
   "metadata": {
    "jupyter": {
     "source_hidden": true
    }
   },
   "outputs": [],
   "source": [
    "# Test & Solution 32\n",
    "assert unique_set == {'a', 'b', 'c'}, \"Set did not handle duplicates correctly.\"\n",
    "print(\"Exercise 32: Success!\")"
   ]
  },
  {
   "cell_type": "markdown",
   "id": "74a1d635",
   "metadata": {},
   "source": [
    "### Exercise 33: Set Add\n",
    "**Task:** Start with `letters = {'a', 'b'}`. Add the letter `'c'` to the set."
   ]
  },
  {
   "cell_type": "code",
   "execution_count": null,
   "id": "0873532b",
   "metadata": {
    "jupyter": {
     "source_hidden": true
    }
   },
   "outputs": [],
   "source": [
    "# Fix your Solution for Exercise 33 Here\n",
    "letters = {'a', 'b'}\n",
    "lettersadd('c')"
   ]
  },
  {
   "cell_type": "code",
   "execution_count": null,
   "id": "943fa150",
   "metadata": {
    "jupyter": {
     "source_hidden": true
    }
   },
   "outputs": [],
   "source": [
    "# Test & Solution 33\n",
    "assert letters == {'a', 'b', 'c'}, \"Element not added to set.\"\n",
    "print(\"Exercise 33: Success!\")"
   ]
  },
  {
   "cell_type": "markdown",
   "id": "c5785395",
   "metadata": {},
   "source": [
    "### Exercise 34: Dictionary Creation\n",
    "**Task:** Create a dictionary `person` with keys `\"name\"` (value: `'Alice'`) and `\"age\"` (value: `30`)."
   ]
  },
  {
   "cell_type": "code",
   "execution_count": null,
   "id": "1b18e4e0",
   "metadata": {
    "jupyter": {
     "source_hidden": true
    }
   },
   "outputs": [],
   "source": [
    "# Your Solution for Exercise 34 Here\n"
   ]
  },
  {
   "cell_type": "code",
   "execution_count": null,
   "id": "771ed6df",
   "metadata": {
    "jupyter": {
     "source_hidden": true
    }
   },
   "outputs": [],
   "source": [
    "# Test & Solution 34\n",
    "assert person['name'] == 'Alice' and person['age'] == 30, \"Incorrect dictionary creation.\"\n",
    "print(\"Exercise 34: Success!\")"
   ]
  },
  {
   "cell_type": "markdown",
   "id": "b8858f2e",
   "metadata": {},
   "source": [
    "### Exercise 35: Dictionary Access\n",
    "**Task:** Access the value associated with the key `\"city\"` in `data = {'city': 'London', 'country': 'UK'}` and store it in `city_name`."
   ]
  },
  {
   "cell_type": "code",
   "execution_count": null,
   "id": "799e32fe",
   "metadata": {
    "jupyter": {
     "source_hidden": true
    }
   },
   "outputs": [],
   "source": [
    "# Your Solution for Exercise 35 Here\n"
   ]
  },
  {
   "cell_type": "code",
   "execution_count": null,
   "id": "e4929370",
   "metadata": {
    "jupyter": {
     "source_hidden": true
    }
   },
   "outputs": [],
   "source": [
    "# Test & Solution 35\n",
    "assert city_name == 'London', \"Incorrect dictionary access.\"\n",
    "print(\"Exercise 35: Success!\")"
   ]
  },
  {
   "cell_type": "markdown",
   "id": "ba9c322b",
   "metadata": {},
   "source": [
    "### Exercise 36: Dictionary Update/Add\n",
    "**Task:** Update the value of `\"age\"` to `31` and add a new key-value pair `\"job\": \"Engineer\"` to `person_data = {'name': 'Bob', 'age': 30}`."
   ]
  },
  {
   "cell_type": "code",
   "execution_count": null,
   "id": "687880dd",
   "metadata": {
    "jupyter": {
     "source_hidden": true
    }
   },
   "outputs": [],
   "source": [
    "# Fix your Solution for Exercise 36 Here\n",
    "person_data = {'name': 'Bob', 'age': 30}\n",
    "person_data['age'] == 31\n"
   ]
  },
  {
   "cell_type": "code",
   "execution_count": null,
   "id": "4faaf83c",
   "metadata": {
    "jupyter": {
     "source_hidden": true
    }
   },
   "outputs": [],
   "source": [
    "# Test & Solution 36\n",
    "expected = {'name': 'Bob', 'age': 31, 'job': 'Engineer'}\n",
    "assert person_data == expected, \"Dictionary not updated/added correctly.\"\n",
    "print(\"Exercise 36: Success!\")"
   ]
  },
  {
   "cell_type": "markdown",
   "id": "0eed8ba1",
   "metadata": {},
   "source": [
    "### Exercise 37: Dictionary Keys\n",
    "**Task:** Get a list of all keys from `inventory = {'item1': 5, 'item2': 10}` and store it in `keys_list`."
   ]
  },
  {
   "cell_type": "code",
   "execution_count": null,
   "id": "95b273d3",
   "metadata": {
    "jupyter": {
     "source_hidden": true
    }
   },
   "outputs": [],
   "source": [
    "# Fix your Solution for Exercise 37 Here\n",
    "inventory = {'item1': 5, 'item2': 10}\n",
    "keys_list = list(inventory.values())"
   ]
  },
  {
   "cell_type": "code",
   "execution_count": null,
   "id": "5bf6284e",
   "metadata": {
    "jupyter": {
     "source_hidden": true
    }
   },
   "outputs": [],
   "source": [
    "# Test & Solution 37\n",
    "assert sorted(keys_list) == ['item1', 'item2'], \"Incorrect keys extracted.\"\n",
    "print(\"Exercise 37: Success!\")"
   ]
  },
  {
   "cell_type": "markdown",
   "id": "99cfb24c",
   "metadata": {},
   "source": [
    "### Exercise 38: Dictionary Values\n",
    "**Task:** Get a list of all values from `inventory = {'item1': 5, 'item2': 10}` and store it in `values_list`."
   ]
  },
  {
   "cell_type": "code",
   "execution_count": null,
   "id": "675da460",
   "metadata": {
    "jupyter": {
     "source_hidden": true
    }
   },
   "outputs": [],
   "source": [
    "# Fix your Solution for Exercise 38 Here\n",
    "inventory = {'item1': 5 'item2': 10}\n",
    "valuelist = list(inventory.values)"
   ]
  },
  {
   "cell_type": "code",
   "execution_count": null,
   "id": "2f14d77b",
   "metadata": {
    "jupyter": {
     "source_hidden": true
    }
   },
   "outputs": [],
   "source": [
    "# Test & Solution 38\n",
    "assert sorted(values_list) == [5, 10], \"Incorrect values extracted.\"\n",
    "print(\"Exercise 38: Success!\")"
   ]
  },
  {
   "cell_type": "markdown",
   "id": "fd53aaf2",
   "metadata": {},
   "source": [
    "### Exercise 39: Set Intersection\n",
    "**Task:** Find the intersection (common elements) between `set1 = {1, 2, 3}` and `set2 = {3, 4, 5}` and store it in `common_elements`."
   ]
  },
  {
   "cell_type": "code",
   "execution_count": null,
   "id": "5869fb9c",
   "metadata": {
    "jupyter": {
     "source_hidden": true
    }
   },
   "outputs": [],
   "source": [
    "# Fix your Solution for Exercise 39 Here\n",
    "set1 = {1, 2, 3}\n",
    "set2 = {3, 4, 5}\n",
    "common_elements = set1.intersection(set1)"
   ]
  },
  {
   "cell_type": "code",
   "execution_count": null,
   "id": "1abaf6ad",
   "metadata": {
    "jupyter": {
     "source_hidden": true
    }
   },
   "outputs": [],
   "source": [
    "# Test & Solution 39\n",
    "assert common_elements == {3}, \"Incorrect intersection.\"\n",
    "print(\"Exercise 39: Success!\")"
   ]
  },
  {
   "cell_type": "markdown",
   "id": "839946d9",
   "metadata": {},
   "source": [
    "### Exercise 40: Set Union\n",
    "**Task:** Find the union (all unique elements) between `set1 = {1, 2, 3}` and `set2 = {3, 4, 5}` and store it in `all_elements`."
   ]
  },
  {
   "cell_type": "code",
   "execution_count": null,
   "id": "054e1762",
   "metadata": {
    "jupyter": {
     "source_hidden": true
    }
   },
   "outputs": [],
   "source": [
    "# Fix your Solution for Exercise 40 Here\n",
    "set1 = {1, 2, 3}\n",
    "sett2 = {3, 5}\n",
    "all_elements = set1.union(set2"
   ]
  },
  {
   "cell_type": "code",
   "execution_count": null,
   "id": "d96e98ef",
   "metadata": {
    "jupyter": {
     "source_hidden": true
    }
   },
   "outputs": [],
   "source": [
    "# Test & Solution 40\n",
    "assert all_elements == {1, 2, 3, 4, 5}, \"Incorrect union.\"\n",
    "print(\"Exercise 40: Success!\")"
   ]
  },
  {
   "cell_type": "markdown",
   "id": "9cbc2986",
   "metadata": {},
   "source": [
    "---"
   ]
  },
  {
   "cell_type": "markdown",
   "id": "a2e99805",
   "metadata": {},
   "source": [
    "## Part 5: Control Flow (if/else, for, while) (Exercises 41-55)"
   ]
  },
  {
   "cell_type": "markdown",
   "id": "d924d389",
   "metadata": {},
   "source": [
    "### Exercise 41: Simple If Statement\n",
    "**Task:** If `x = 10` is greater than 5, set a variable `result` to `\"Greater\"`."
   ]
  },
  {
   "cell_type": "code",
   "execution_count": null,
   "id": "bf5e0eb3",
   "metadata": {
    "jupyter": {
     "source_hidden": true
    }
   },
   "outputs": [],
   "source": [
    "# Fix your Solution for Exercise 41 Here\n",
    "x = 10\n",
    "result = \"\"\n",
    "if x > 5\n",
    "    result = \"Greater\""
   ]
  },
  {
   "cell_type": "code",
   "execution_count": null,
   "id": "ecb62d80",
   "metadata": {
    "jupyter": {
     "source_hidden": true
    }
   },
   "outputs": [],
   "source": [
    "# Test & Solution 41\n",
    "assert result == \"Greater\", \"Condition not met.\"\n",
    "print(\"Exercise 41: Success!\")"
   ]
  },
  {
   "cell_type": "markdown",
   "id": "289e2a48",
   "metadata": {},
   "source": [
    "### Exercise 42: If-Else Statement\n",
    "**Task:** If `y = 2` is even, set `even_odd` to `\"Even\"`, otherwise set it to `\"Odd\"`."
   ]
  },
  {
   "cell_type": "code",
   "execution_count": null,
   "id": "7259dfb7",
   "metadata": {
    "jupyter": {
     "source_hidden": true
    }
   },
   "outputs": [],
   "source": [
    "# Your Solution for Exercise 42 Here\n"
   ]
  },
  {
   "cell_type": "code",
   "execution_count": null,
   "id": "a04199a4",
   "metadata": {
    "jupyter": {
     "source_hidden": true
    }
   },
   "outputs": [],
   "source": [
    "# Test & Solution 42\n",
    "assert even_odd == \"Even\", \"Incorrect even/odd check.\"\n",
    "print(\"Exercise 42: Success!\")"
   ]
  },
  {
   "cell_type": "markdown",
   "id": "3cc6af50",
   "metadata": {},
   "source": [
    "### Exercise 43: If-Elif-Else Statement\n",
    "**Task:** For `score = 85`, if score > 90, `grade=\"A\"`. Else if score > 80, `grade=\"B\"`. Else, `grade=\"C\"`."
   ]
  },
  {
   "cell_type": "code",
   "execution_count": null,
   "id": "a175e19b",
   "metadata": {
    "jupyter": {
     "source_hidden": true
    }
   },
   "outputs": [],
   "source": [
    "# Fix your Solution for Exercise 43 Here\n",
    "score = 85\n",
    "if scre > 90:\n",
    "    grade = \"A\"\n",
    "elif score > 80\n",
    "    grade = \"b\"\n",
    "else:\n",
    "    grade = \"C\""
   ]
  },
  {
   "cell_type": "code",
   "execution_count": null,
   "id": "54c999ed",
   "metadata": {
    "jupyter": {
     "source_hidden": true
    }
   },
   "outputs": [],
   "source": [
    "# Test & Solution 43\n",
    "assert grade == \"B\", \"Incorrect grading logic.\"\n",
    "print(\"Exercise 43: Success!\")"
   ]
  },
  {
   "cell_type": "markdown",
   "id": "af7cedf1",
   "metadata": {},
   "source": [
    "### Exercise 44: For Loop (Range)\n",
    "**Task:** Use a `for` loop and `range()` to calculate the sum of integers from 1 to 5 (inclusive). Store it in `sum_1_to_5`."
   ]
  },
  {
   "cell_type": "code",
   "execution_count": null,
   "id": "511d3581",
   "metadata": {
    "jupyter": {
     "source_hidden": true
    }
   },
   "outputs": [],
   "source": [
    "# Fix your Solution for Exercise 44 Here\n",
    "sum_1_to_5 = 0\n",
    "for i in range(1, 5):\n",
    "    sum_1_to_5 += i"
   ]
  },
  {
   "cell_type": "code",
   "execution_count": null,
   "id": "1f9cfc3e",
   "metadata": {
    "jupyter": {
     "source_hidden": true
    }
   },
   "outputs": [],
   "source": [
    "# Test & Solution 44\n",
    "assert sum_1_to_5 == 15, \"Incorrect sum.\"\n",
    "print(\"Exercise 44: Success!\")"
   ]
  },
  {
   "cell_type": "markdown",
   "id": "ba196120",
   "metadata": {},
   "source": [
    "### Exercise 45: For Loop (List Iteration)\n",
    "**Task:** Iterate through `data = ['a', 'b', 'c']` and concatenate all elements into a single string `combined_string`."
   ]
  },
  {
   "cell_type": "code",
   "execution_count": null,
   "id": "e76ccd77",
   "metadata": {
    "jupyter": {
     "source_hidden": true
    }
   },
   "outputs": [],
   "source": [
    "# Fix your Solution for Exercise 45 Here\n",
    "data = ['a', 'b', 'c', 'dd']\n",
    "combined_string = \"\"\n",
    "for item in data:\n",
    "    combined_string += items"
   ]
  },
  {
   "cell_type": "code",
   "execution_count": null,
   "id": "0cbd4bd6",
   "metadata": {
    "jupyter": {
     "source_hidden": true
    }
   },
   "outputs": [],
   "source": [
    "# Test & Solution 45\n",
    "assert combined_string == \"abc\", \"Incorrect string concatenation in loop.\"\n",
    "print(\"Exercise 45: Success!\")"
   ]
  },
  {
   "cell_type": "markdown",
   "id": "2bc8e2a0",
   "metadata": {},
   "source": [
    "### Exercise 46: While Loop (Counter)\n",
    "**Task:** Use a `while` loop to count up to 5 (inclusive). Store the final count in `final_count`."
   ]
  },
  {
   "cell_type": "code",
   "execution_count": null,
   "id": "73bc97e0",
   "metadata": {
    "jupyter": {
     "source_hidden": true
    }
   },
   "outputs": [],
   "source": [
    "# Your Solution for Exercise 46 Here\n"
   ]
  },
  {
   "cell_type": "code",
   "execution_count": null,
   "id": "403aa5e2",
   "metadata": {
    "jupyter": {
     "source_hidden": true
    }
   },
   "outputs": [],
   "source": [
    "# Test & Solution 46\n",
    "assert final_count == 5, \"While loop stopped prematurely or too late.\"\n",
    "print(\"Exercise 46: Success!\")"
   ]
  },
  {
   "cell_type": "markdown",
   "id": "13612502",
   "metadata": {},
   "source": [
    "### Exercise 47: While Loop (Break)\n",
    "**Task:** Use a `while True` loop and `break` to stop the loop when a counter `i` reaches 3. Store the value of `i` right before the break in `break_value`."
   ]
  },
  {
   "cell_type": "code",
   "execution_count": null,
   "id": "e516ce74",
   "metadata": {
    "jupyter": {
     "source_hidden": true
    }
   },
   "outputs": [],
   "source": [
    "# Fix your Solution for Exercise 47 Here\n",
    "i = 0\n",
    "while True:\n",
    "    i += 1\n",
    "    if i = 3:\n",
    "        break_vale = i\n",
    "        break"
   ]
  },
  {
   "cell_type": "code",
   "execution_count": null,
   "id": "cf217b89",
   "metadata": {
    "jupyter": {
     "source_hidden": true
    }
   },
   "outputs": [],
   "source": [
    "# Test & Solution 47\n",
    "assert break_value == 3, \"Break condition not met correctly.\"\n",
    "print(\"Exercise 47: Success!\")"
   ]
  },
  {
   "cell_type": "markdown",
   "id": "32c32d2e",
   "metadata": {},
   "source": [
    "### Exercise 48: For Loop with Enumerate\n",
    "**Task:** Iterate through `items = ['X', 'Y', 'Z']` using `enumerate` and create a list of tuples `indexed_items` where each tuple is `(index, item)`."
   ]
  },
  {
   "cell_type": "code",
   "execution_count": null,
   "id": "779eb3d4",
   "metadata": {
    "jupyter": {
     "source_hidden": true
    }
   },
   "outputs": [],
   "source": [
    "# Fox your Solution for Exercise 48 Here\n",
    "items = ['X', 'Y', 'Z']\n",
    "indexed_items = ()\n",
    "for index, item in enumerate(items):\n",
    "    indexed_items.append((index, item))"
   ]
  },
  {
   "cell_type": "code",
   "execution_count": null,
   "id": "5f1a65bc",
   "metadata": {
    "jupyter": {
     "source_hidden": true
    }
   },
   "outputs": [],
   "source": [
    "# Test & Solution 48\n",
    "expected_items = [(0, 'X'), (1, 'Y'), (2, 'Z')]\n",
    "assert indexed_items == expected_items, \"Enumerate did not work as expected.\"\n",
    "print(\"Exercise 48: Success!\")"
   ]
  },
  {
   "cell_type": "markdown",
   "id": "3dcb0fbc",
   "metadata": {},
   "source": [
    "### Exercise 49: Conditional List Comprehension\n",
    "**Task:** Create a new list `even_squares` containing the square of each **even** number from `nums = [1, 2, 3, 4, 5, 6]`."
   ]
  },
  {
   "cell_type": "code",
   "execution_count": null,
   "id": "b8ed840d",
   "metadata": {
    "jupyter": {
     "source_hidden": true
    }
   },
   "outputs": [],
   "source": [
    "# Your Solution for Exercise 49 Here\n"
   ]
  },
  {
   "cell_type": "code",
   "execution_count": null,
   "id": "591a1e4e",
   "metadata": {
    "jupyter": {
     "source_hidden": true
    }
   },
   "outputs": [],
   "source": [
    "# Test & Solution 49\n",
    "assert even_squares == [4, 16, 36], \"Incorrect list comprehension result.\"\n",
    "print(\"Exercise 49: Success!\")"
   ]
  },
  {
   "cell_type": "markdown",
   "id": "5433ef25",
   "metadata": {},
   "source": [
    "### Exercise 50: Nested For Loop\n",
    "**Task:** Use nested `for` loops to create a list of tuples `coords` representing coordinates: `(0, 0), (0, 1), (1, 0), (1, 1)`."
   ]
  },
  {
   "cell_type": "code",
   "execution_count": null,
   "id": "86e55fe3",
   "metadata": {
    "jupyter": {
     "source_hidden": true
    }
   },
   "outputs": [],
   "source": [
    "# Fix your Solution for Exercise 50 Here\n",
    "coords = []\n",
    "for i in range(2):\n",
    "    for j in range(2)\n",
    "        coords.append((j, i))"
   ]
  },
  {
   "cell_type": "code",
   "execution_count": null,
   "id": "c4bd4361",
   "metadata": {
    "jupyter": {
     "source_hidden": true
    }
   },
   "outputs": [],
   "source": [
    "# Test & Solution 50\n",
    "expected_coords = [(0, 0), (0, 1), (1, 0), (1, 1)]\n",
    "assert coords == expected_coords, \"Incorrect nested loop output.\"\n",
    "print(\"Exercise 50: Success!\")"
   ]
  },
  {
   "cell_type": "markdown",
   "id": "fecf333b",
   "metadata": {},
   "source": [
    "### Exercises 51-55: Remaining Control Flow Exercises (Simple Loops/Conditionals)"
   ]
  },
  {
   "cell_type": "markdown",
   "id": "ea98b53f",
   "metadata": {},
   "source": [
    "### Exercise 51: Count Negative Numbers\n",
    "**Task:** Count how many negative numbers are in `data = [1, -2, 3, -4, 0, -5]`. Store the count in `neg_count`."
   ]
  },
  {
   "cell_type": "code",
   "execution_count": null,
   "id": "f64d07c8",
   "metadata": {
    "jupyter": {
     "source_hidden": true
    }
   },
   "outputs": [],
   "source": [
    "# Your Solution for Exercise 51 Here\n"
   ]
  },
  {
   "cell_type": "code",
   "execution_count": null,
   "id": "78f7a702",
   "metadata": {
    "jupyter": {
     "source_hidden": true
    }
   },
   "outputs": [],
   "source": [
    "# Test & Solution 51\n",
    "assert neg_count == 3, \"Incorrect negative count.\"\n",
    "print(\"Exercise 51: Success!\")"
   ]
  },
  {
   "cell_type": "markdown",
   "id": "855655d4",
   "metadata": {},
   "source": [
    "### Exercise 52: Find Max in List\n",
    "**Task:** Find the largest number in `numbers = [4, 1, 9, 5, 2]`. Store it in `max_num` (Do not use the built-in `max()` function)."
   ]
  },
  {
   "cell_type": "code",
   "execution_count": null,
   "id": "cadd539a",
   "metadata": {
    "jupyter": {
     "source_hidden": true
    }
   },
   "outputs": [],
   "source": [
    "# Your Solution for Exercise 52 Here\n"
   ]
  },
  {
   "cell_type": "code",
   "execution_count": null,
   "id": "d166c64a",
   "metadata": {
    "jupyter": {
     "source_hidden": true
    }
   },
   "outputs": [],
   "source": [
    "# Test & Solution 52\n",
    "assert max_num == 9, \"Incorrect maximum number.\"\n",
    "print(\"Exercise 52: Success!\")"
   ]
  },
  {
   "cell_type": "markdown",
   "id": "4d5c7ccc",
   "metadata": {},
   "source": [
    "### Exercise 53: Loop to create Dictionary\n",
    "**Task:** Use a `for` loop to create a dictionary `squares` where keys are numbers from 1 to 3, and values are their squares. (i.e., `{1: 1, 2: 4, 3: 9}`)."
   ]
  },
  {
   "cell_type": "code",
   "execution_count": null,
   "id": "37758596",
   "metadata": {
    "jupyter": {
     "source_hidden": true
    }
   },
   "outputs": [],
   "source": [
    "# Fix your Solution for Exercise 53 Here\n",
    "squares = {}\n",
    "for i in range(1, 4):\n",
    "    squares[i] = i "
   ]
  },
  {
   "cell_type": "code",
   "execution_count": null,
   "id": "487132f2",
   "metadata": {
    "jupyter": {
     "source_hidden": true
    }
   },
   "outputs": [],
   "source": [
    "# Test & Solution 53\n",
    "assert squares == {1: 1, 2: 4, 3: 9}, \"Incorrect dictionary creation.\"\n",
    "print(\"Exercise 53: Success!\")"
   ]
  },
  {
   "cell_type": "markdown",
   "id": "696695e7",
   "metadata": {},
   "source": [
    "### Exercise 54: Simple While Loop (Factorial)\n",
    "**Task:** Use a `while` loop to calculate the factorial of 4 ($4! = 4 \times 3 \times 2 \times 1$). Store it in `factorial_4`."
   ]
  },
  {
   "cell_type": "code",
   "execution_count": null,
   "id": "5e8b1dc0",
   "metadata": {
    "jupyter": {
     "source_hidden": true
    }
   },
   "outputs": [],
   "source": [
    "# Fix your Solution for Exercise 54 Here\n",
    "n = 7\n",
    "factorial_4 = 1\n",
    "while n > 0:\n",
    "    factorial_4 *= n\n",
    "    n -= 1"
   ]
  },
  {
   "cell_type": "code",
   "execution_count": null,
   "id": "fcea8a04",
   "metadata": {
    "jupyter": {
     "source_hidden": true
    }
   },
   "outputs": [],
   "source": [
    "# Test & Solution 54\n",
    "assert factorial_4 == 24, \"Incorrect factorial calculation.\"\n",
    "print(\"Exercise 54: Success!\")"
   ]
  },
  {
   "cell_type": "markdown",
   "id": "00c3cbc9",
   "metadata": {},
   "source": [
    "### Exercise 55: Check for Palindrome (Simple)\n",
    "**Task:** Check if `word = \"madam\"` is the same as its reverse. Store the boolean result in `is_palindrome`."
   ]
  },
  {
   "cell_type": "code",
   "execution_count": null,
   "id": "2258c81d",
   "metadata": {
    "jupyter": {
     "source_hidden": true
    }
   },
   "outputs": [],
   "source": [
    "# Fix your Solution for Exercise 55 Here\n",
    "word = \"madamm\"\n",
    "is_palindrome = word == word[::-1]"
   ]
  },
  {
   "cell_type": "code",
   "execution_count": null,
   "id": "3ec4c059",
   "metadata": {
    "jupyter": {
     "source_hidden": true
    }
   },
   "outputs": [],
   "source": [
    "# Test & Solution 55\n",
    "assert is_palindrome == True, \"Palindrome check failed.\"\n",
    "print(\"Exercise 55: Success!\")"
   ]
  },
  {
   "cell_type": "markdown",
   "id": "ee64cac8",
   "metadata": {},
   "source": [
    "---"
   ]
  },
  {
   "cell_type": "markdown",
   "id": "c1cb8fc9",
   "metadata": {},
   "source": [
    "## Part 6: Functions (Exercises 56-70)"
   ]
  },
  {
   "cell_type": "markdown",
   "id": "c1298b69",
   "metadata": {},
   "source": [
    "### Exercise 56: Simple Function Definition\n",
    "**Task:** Define a function `greet()` that returns the string `\"Hello!\"`."
   ]
  },
  {
   "cell_type": "code",
   "execution_count": null,
   "id": "497139ab",
   "metadata": {
    "jupyter": {
     "source_hidden": true
    }
   },
   "outputs": [],
   "source": [
    "# Fix your Solution for Exercise 56 Here\n",
    "def greet():\n",
    "    return \"Hello!"
   ]
  },
  {
   "cell_type": "code",
   "execution_count": null,
   "id": "c277b43e",
   "metadata": {
    "jupyter": {
     "source_hidden": true
    }
   },
   "outputs": [],
   "source": [
    "# Test & Solution 56\n",
    "assert greet() == \"Hello!\", \"Function returned incorrect value.\"\n",
    "print(\"Exercise 56: Success!\")"
   ]
  },
  {
   "cell_type": "markdown",
   "id": "cecc342a",
   "metadata": {},
   "source": [
    "### Exercise 57: Function with One Parameter\n",
    "**Task:** Define a function `square(number)` that returns the square of the input number."
   ]
  },
  {
   "cell_type": "code",
   "execution_count": null,
   "id": "512ebe45",
   "metadata": {
    "jupyter": {
     "source_hidden": true
    }
   },
   "outputs": [],
   "source": [
    "# Fix your Solution for Exercise 57 Here\n",
    "def square(number):\n",
    "    return number * 2"
   ]
  },
  {
   "cell_type": "code",
   "execution_count": null,
   "id": "5b61d27e",
   "metadata": {
    "jupyter": {
     "source_hidden": true
    }
   },
   "outputs": [],
   "source": [
    "# Test & Solution 57\n",
    "assert square(5) == 25, \"Function returned incorrect value for input 5.\"\n",
    "print(\"Exercise 57: Success!\")"
   ]
  },
  {
   "cell_type": "markdown",
   "id": "36f2426f",
   "metadata": {},
   "source": [
    "### Exercise 58: Function with Two Parameters\n",
    "**Task:** Define a function `add(a, b)` that returns the sum of `a` and `b`."
   ]
  },
  {
   "cell_type": "code",
   "execution_count": null,
   "id": "2ed75508",
   "metadata": {
    "jupyter": {
     "source_hidden": true
    }
   },
   "outputs": [],
   "source": [
    "# Your Solution for Exercise 58 Here\n"
   ]
  },
  {
   "cell_type": "code",
   "execution_count": null,
   "id": "aa017b46",
   "metadata": {
    "jupyter": {
     "source_hidden": true
    }
   },
   "outputs": [],
   "source": [
    "# Test & Solution 58\n",
    "assert add(10, 5) == 15, \"Function returned incorrect sum.\"\n",
    "print(\"Exercise 58: Success!\")"
   ]
  },
  {
   "cell_type": "markdown",
   "id": "13bd3fcf",
   "metadata": {},
   "source": [
    "### Exercise 59: Function with Default Argument\n",
    "**Task:** Define a function `power(base, exp=2)` that returns `base` raised to the power of `exp`. If `exp` is not provided, it should default to 2 (square)."
   ]
  },
  {
   "cell_type": "code",
   "execution_count": null,
   "id": "f31e2c45",
   "metadata": {
    "jupyter": {
     "source_hidden": true
    }
   },
   "outputs": [],
   "source": [
    "# Your Solution for Exercise 59 Here\n",
    "define power(base exp=2):\n",
    "    return base ** exp"
   ]
  },
  {
   "cell_type": "code",
   "execution_count": null,
   "id": "d0b372b1",
   "metadata": {
    "jupyter": {
     "source_hidden": true
    }
   },
   "outputs": [],
   "source": [
    "# Test & Solution 59\n",
    "assert power(3) == 9, \"Default argument failed.\"\n",
    "assert power(2, 3) == 8, \"Custom argument failed.\"\n",
    "print(\"Exercise 59: Success!\")"
   ]
  },
  {
   "cell_type": "markdown",
   "id": "5f8861c3",
   "metadata": {},
   "source": [
    "### Exercise 60: Function with Conditional Logic\n",
    "**Task:** Define a function `is_positive(num)` that returns `True` if the number is greater than 0, and `False` otherwise (including 0)."
   ]
  },
  {
   "cell_type": "code",
   "execution_count": null,
   "id": "7d7533c7",
   "metadata": {
    "jupyter": {
     "source_hidden": true
    }
   },
   "outputs": [],
   "source": [
    "# Your Solution for Exercise 60 Here\n"
   ]
  },
  {
   "cell_type": "code",
   "execution_count": null,
   "id": "be8933d6",
   "metadata": {
    "jupyter": {
     "source_hidden": true
    }
   },
   "outputs": [],
   "source": [
    "# Test & Solution 60\n",
    "assert is_positive(10) == True, \"Test 1 failed.\"\n",
    "assert is_positive(-1) == False, \"Test 2 failed.\"\n",
    "assert is_positive(0) == False, \"Test 3 failed.\"\n",
    "print(\"Exercise 60: Success!\")"
   ]
  },
  {
   "cell_type": "markdown",
   "id": "44a1c83a",
   "metadata": {},
   "source": [
    "### Exercise 61: Function to Check List Membership\n",
    "**Task:** Define a function `check_member(item, my_list)` that returns `True` if `item` is in `my_list`, otherwise `False`."
   ]
  },
  {
   "cell_type": "code",
   "execution_count": null,
   "id": "0bf9c947",
   "metadata": {
    "jupyter": {
     "source_hidden": true
    }
   },
   "outputs": [],
   "source": [
    "# Fix your Solution for Exercise 61 Here\n",
    "def check_member(item, my_list):\n",
    "    return item in mylist"
   ]
  },
  {
   "cell_type": "code",
   "execution_count": null,
   "id": "b47c32e9",
   "metadata": {
    "jupyter": {
     "source_hidden": true
    }
   },
   "outputs": [],
   "source": [
    "# Test & Solution 61\n",
    "assert check_member('a', ['a', 'b']) == True, \"Test 1 failed.\"\n",
    "assert check_member('z', ['a', 'b']) == False, \"Test 2 failed.\"\n",
    "print(\"Exercise 61: Success!\")"
   ]
  },
  {
   "cell_type": "markdown",
   "id": "ed5243bb",
   "metadata": {},
   "source": [
    "### Exercise 62: Function to Reverse a String\n",
    "**Task:** Define a function `reverse_string(s)` that returns the reversed version of the input string `s`."
   ]
  },
  {
   "cell_type": "code",
   "execution_count": null,
   "id": "fd6403c1",
   "metadata": {
    "jupyter": {
     "source_hidden": true
    }
   },
   "outputs": [],
   "source": [
    "# Fix your Solution for Exercise 62 Here\n",
    "def reverse_string(s):\n",
    "    ret s[::-1]"
   ]
  },
  {
   "cell_type": "code",
   "execution_count": null,
   "id": "363b70e0",
   "metadata": {
    "jupyter": {
     "source_hidden": true
    }
   },
   "outputs": [],
   "source": [
    "# Test & Solution 62\n",
    "assert reverse_string('hello') == 'olleh', \"Test 1 failed.\"\n",
    "assert reverse_string('123') == '321', \"Test 2 failed.\"\n",
    "print(\"Exercise 62: Success!\")"
   ]
  },
  {
   "cell_type": "markdown",
   "id": "17d54e2e",
   "metadata": {},
   "source": [
    "### Exercise 63: Function to Calculate List Sum\n",
    "**Task:** Define a function `list_sum(numbers)` that takes a list of numbers and returns their sum. (Do not use the built-in `sum()` function)."
   ]
  },
  {
   "cell_type": "code",
   "execution_count": null,
   "id": "6478dbc3",
   "metadata": {
    "jupyter": {
     "source_hidden": true
    }
   },
   "outputs": [],
   "source": [
    "# Fix your Solution for Exercise 63 Here\n",
    "def list_sum(number)\n",
    "    total = 0\n",
    "    for num in numbers\n",
    "        total += num\n",
    "    return total"
   ]
  },
  {
   "cell_type": "code",
   "execution_count": null,
   "id": "9b483a9e",
   "metadata": {
    "jupyter": {
     "source_hidden": true
    }
   },
   "outputs": [],
   "source": [
    "# Test & Solution 63\n",
    "assert list_sum([1, 2, 3]) == 6, \"Test 1 failed.\"\n",
    "assert list_sum([10, -5]) == 5, \"Test 2 failed.\"\n",
    "print(\"Exercise 63: Success!\")"
   ]
  },
  {
   "cell_type": "markdown",
   "id": "2f622e6f",
   "metadata": {},
   "source": [
    "### Exercise 64: Function to Get Dictionary Key\n",
    "**Task:** Define a function `get_key_value(d, key)` that returns the value associated with `key` in the dictionary `d`."
   ]
  },
  {
   "cell_type": "code",
   "execution_count": null,
   "id": "321f2493",
   "metadata": {
    "jupyter": {
     "source_hidden": true
    }
   },
   "outputs": [],
   "source": [
    "# Fix your Solution for Exercise 64 Here\n",
    "def get_key_value(d, key):\n",
    "    pass\n",
    "    # return d.get(key) # Using .get() to avoid errors, or simply d[key] if key is guaranteed to exist"
   ]
  },
  {
   "cell_type": "code",
   "execution_count": null,
   "id": "798d519e",
   "metadata": {
    "jupyter": {
     "source_hidden": true
    }
   },
   "outputs": [],
   "source": [
    "# Test & Solution 64\n",
    "data = {'a': 10, 'b': 20}\n",
    "assert get_key_value(data, 'a') == 10, \"Test 1 failed.\"\n",
    "assert get_key_value(data, 'c') == None, \"Test 2 failed (using .get() default behavior).\"\n",
    "print(\"Exercise 64: Success!\")"
   ]
  },
  {
   "cell_type": "markdown",
   "id": "25c438d2",
   "metadata": {},
   "source": [
    "### Exercise 65: Function to Filter List\n",
    "**Task:** Define a function `filter_odds(numbers)` that takes a list of integers and returns a new list containing only the odd numbers."
   ]
  },
  {
   "cell_type": "code",
   "execution_count": null,
   "id": "e0548fa2",
   "metadata": {
    "jupyter": {
     "source_hidden": true
    }
   },
   "outputs": [],
   "source": [
    "# Fix your Solution for Exercise 65 Here\n",
    "def filter_odds(numbers):\n",
    "odd_numbers = [num for num in numbers if num % 2 != 0]\n",
    "return odd_numbers"
   ]
  },
  {
   "cell_type": "code",
   "execution_count": null,
   "id": "39cddef5",
   "metadata": {
    "jupyter": {
     "source_hidden": true
    }
   },
   "outputs": [],
   "source": [
    "# Test & Solution 65\n",
    "assert filter_odds([1, 2, 3, 4, 5]) == [1, 3, 5], \"Test 1 failed.\"\n",
    "assert filter_odds([2, 4, 6]) == [], \"Test 2 failed.\"\n",
    "print(\"Exercise 65: Success!\")"
   ]
  },
  {
   "cell_type": "markdown",
   "id": "b86b8365",
   "metadata": {},
   "source": [
    "### Exercise 66: Function to Concatenate Strings in List\n",
    "**Task:** Define a function `join_strings(str_list, separator=' ')` that takes a list of strings and joins them into a single string using the specified separator (default is space)."
   ]
  },
  {
   "cell_type": "code",
   "execution_count": null,
   "id": "37171e86",
   "metadata": {
    "jupyter": {
     "source_hidden": true
    }
   },
   "outputs": [],
   "source": [
    "# Fix your Solution for Exercise 66 Here\n",
    "def join_strings(str_list, separator=''):\n",
    "    return separator.join(str_list)"
   ]
  },
  {
   "cell_type": "code",
   "execution_count": null,
   "id": "d39cddec",
   "metadata": {
    "jupyter": {
     "source_hidden": true
    }
   },
   "outputs": [],
   "source": [
    "# Test & Solution 66\n",
    "assert join_strings(['a', 'b', 'c']) == 'a b c', \"Test 1 failed (default separator).\"\n",
    "assert join_strings(['1', '2', '3'], separator='-') == '1-2-3', \"Test 2 failed (custom separator).\"\n",
    "print(\"Exercise 66: Success!\")"
   ]
  },
  {
   "cell_type": "markdown",
   "id": "4eca467b",
   "metadata": {},
   "source": [
    "### Exercise 67: Function returning Multiple Values (Tuple)\n",
    "**Task:** Define a function `min_max(numbers)` that returns both the minimum and maximum values of a list of numbers as a tuple `(min_val, max_val)`."
   ]
  },
  {
   "cell_type": "code",
   "execution_count": null,
   "id": "3c80d0b8",
   "metadata": {
    "jupyter": {
     "source_hidden": true
    }
   },
   "outputs": [],
   "source": [
    "# Your Solution for Exercise 67 Here\n",
    "def min_max(numbers):\n",
    "    return max(numbers), min(numbers)"
   ]
  },
  {
   "cell_type": "code",
   "execution_count": null,
   "id": "5867f182",
   "metadata": {
    "jupyter": {
     "source_hidden": true
    }
   },
   "outputs": [],
   "source": [
    "# Test & Solution 67\n",
    "assert min_max([4, 1, 9, 2]) == (1, 9), \"Test 1 failed.\"\n",
    "print(\"Exercise 67: Success!\")"
   ]
  },
  {
   "cell_type": "markdown",
   "id": "c4bb9c99",
   "metadata": {},
   "source": [
    "### Exercise 68: Lambda Function (Multiplication)\n",
    "**Task:** Create a lambda function `multiply` that takes two arguments, `x` and `y`, and returns their product."
   ]
  },
  {
   "cell_type": "code",
   "execution_count": null,
   "id": "746d94b7",
   "metadata": {
    "jupyter": {
     "source_hidden": true
    }
   },
   "outputs": [],
   "source": [
    "# Fix your Solution for Exercise 68 Here\n",
    "multiply == lambda x, y: x * y"
   ]
  },
  {
   "cell_type": "code",
   "execution_count": null,
   "id": "83a3bd0b",
   "metadata": {
    "jupyter": {
     "source_hidden": true
    }
   },
   "outputs": [],
   "source": [
    "# Test & Solution 68\n",
    "assert multiply(5, 3) == 15, \"Lambda function failed.\"\n",
    "print(\"Exercise 68: Success!\")"
   ]
  },
  {
   "cell_type": "markdown",
   "id": "e7d02ca8",
   "metadata": {},
   "source": [
    "### Exercise 69: Function with Docstring\n",
    "**Task:** Define a function `get_info(name)` that returns `f\"The user's name is {name}\"` and add a one-line docstring explaining its purpose."
   ]
  },
  {
   "cell_type": "code",
   "execution_count": null,
   "id": "9a210dc0",
   "metadata": {
    "jupyter": {
     "source_hidden": true
    }
   },
   "outputs": [],
   "source": [
    "# Your Solution for Exercise 69 Here\n"
   ]
  },
  {
   "cell_type": "code",
   "execution_count": null,
   "id": "5d449dda",
   "metadata": {
    "jupyter": {
     "source_hidden": true
    }
   },
   "outputs": [],
   "source": [
    "# Test & Solution 69\n",
    "assert get_info('Charlie') == \"The user's name is Charlie\", \"Function logic failed.\"\n",
    "assert \"Returns a formatted string\" in get_info.__doc__, \"Docstring is missing or incorrect.\"\n",
    "print(\"Exercise 69: Success!\")"
   ]
  },
  {
   "cell_type": "markdown",
   "id": "146dedfb",
   "metadata": {},
   "source": [
    "### Exercise 70: Function with Scope Check\n",
    "**Task:** Define a function `update_global()` that accesses and modifies the global variable `global_counter = 5` by adding 10 to it. Use the `global` keyword."
   ]
  },
  {
   "cell_type": "code",
   "execution_count": null,
   "id": "a3af71ae",
   "metadata": {
    "jupyter": {
     "source_hidden": true
    }
   },
   "outputs": [],
   "source": [
    "# Your Solution for Exercise 70 Here\n",
    "global_counter = 5\n",
    "def update_global():\n",
    "    global_counter\n",
    "    global_counter += 10"
   ]
  },
  {
   "cell_type": "code",
   "execution_count": null,
   "id": "d465bc46",
   "metadata": {
    "jupyter": {
     "source_hidden": true
    }
   },
   "outputs": [],
   "source": [
    "# Test & Solution 70\n",
    "update_global()\n",
    "assert global_counter == 15, \"Global variable not updated correctly.\"\n",
    "print(\"Exercise 70: Success!\")"
   ]
  }
 ],
 "metadata": {
  "kernelspec": {
   "display_name": "Python 3",
   "language": "python",
   "name": "python3"
  },
  "language_info": {
   "codemirror_mode": {
    "name": "ipython",
    "version": 3
   },
   "file_extension": ".py",
   "mimetype": "text/x-python",
   "name": "python",
   "nbconvert_exporter": "python",
   "pygments_lexer": "ipython3",
   "version": "3.13.7"
  }
 },
 "nbformat": 4,
 "nbformat_minor": 5
}
