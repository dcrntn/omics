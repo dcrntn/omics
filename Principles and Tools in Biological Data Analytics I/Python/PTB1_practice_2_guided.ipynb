{
 "cells": [
  {
   "cell_type": "markdown",
   "id": "bff7c115",
   "metadata": {},
   "source": [
    "# 🧬 Object-Oriented Programming (OOP) in Python for Bioinfo"
   ]
  },
  {
   "cell_type": "markdown",
   "id": "a99cacf8",
   "metadata": {},
   "source": [
    "\n",
    "This notebook introduces **Object-Oriented Programming (OOP)** concepts in Python,\n",
    "using **bioinformatics examples** to help you understand\n",
    "how programming structure can mirror biological systems.\n",
    "\n",
    "We'll cover:\n",
    "\n",
    "- Classes and Objects  \n",
    "- Attributes and Methods  \n",
    "- Encapsulation (public, protected, private)  \n",
    "- Inheritance (single & multiple)  \n",
    "- `super()` and method overriding  \n",
    "- Polymorphism  \n",
    "- Composition  \n",
    "\n",
    "Each section includes explanations and bioinformatics-flavored code examples.\n"
   ]
  },
  {
   "cell_type": "markdown",
   "id": "3b837025",
   "metadata": {},
   "source": [
    "## 🧩 1. Classes and Objects"
   ]
  },
  {
   "cell_type": "markdown",
   "id": "301fbf7d",
   "metadata": {},
   "source": [
    "\n",
    "In bioinformatics, you often deal with *biological entities* like genes, proteins,\n",
    "and sequences. These can naturally be represented as **objects** in programming.\n",
    "\n",
    "A **class** is like a *blueprint* — for example, a general definition of what a\n",
    "\"biological sequence\" is.  \n",
    "An **object** is a specific instance, like a particular DNA sequence from a FASTA file.\n"
   ]
  },
  {
   "cell_type": "code",
   "execution_count": null,
   "id": "5a08ddc3",
   "metadata": {},
   "outputs": [],
   "source": [
    "\n",
    "class Sequence:\n",
    "    def __init__(self, seq, organism):\n",
    "        self.seq = seq.upper()\n",
    "        self.organism = organism\n",
    "\n",
    "    def length(self):\n",
    "        return len(self.seq)\n",
    "\n",
    "# Create an object\n",
    "seq1 = Sequence(\"ATGCTTAGC\", \"Homo sapiens\")\n",
    "print(f\"Organism: {seq1.organism}\")\n",
    "print(f\"Sequence: {seq1.seq}\")\n",
    "print(f\"Length: {seq1.length()} bp\")\n"
   ]
  },
  {
   "cell_type": "markdown",
   "id": "669f38b9",
   "metadata": {},
   "source": [
    "## 🔒 2. Encapsulation (Public, Protected, Private Attributes)"
   ]
  },
  {
   "cell_type": "markdown",
   "id": "40a5e351",
   "metadata": {},
   "source": [
    "\n",
    "Encapsulation helps **hide internal details** of an object from outside access.\n",
    "\n",
    "- **Public**: Accessible from anywhere (`self.attribute`)  \n",
    "- **Protected**: Conventionally internal, single underscore (`_attribute`)  \n",
    "- **Private**: Strongly hidden, double underscore (`__attribute`)\n"
   ]
  },
  {
   "cell_type": "code",
   "execution_count": null,
   "id": "1f7b0f2c",
   "metadata": {},
   "outputs": [],
   "source": [
    "\n",
    "class Gene:\n",
    "    def __init__(self, name, sequence):\n",
    "        self.name = name          # public\n",
    "        self._sequence = sequence # protected\n",
    "        self.__id = \"GENE123\"     # private\n",
    "\n",
    "    def show_info(self):\n",
    "        print(f\"Gene: {self.name}, ID: {self.__id}\")\n",
    "\n",
    "gene = Gene(\"BRCA1\", \"ATGCCTGA\")\n",
    "gene.show_info()\n",
    "\n",
    "print(gene.name)          # OK\n",
    "print(gene._sequence)     # Conventionally internal use only\n",
    "# print(gene.__id)        # ❌ AttributeError (private)\n"
   ]
  },
  {
   "cell_type": "markdown",
   "id": "4c019ae9",
   "metadata": {},
   "source": [
    "## 🧬 3. Inheritance"
   ]
  },
  {
   "cell_type": "markdown",
   "id": "48ec104d",
   "metadata": {},
   "source": [
    "\n",
    "Inheritance lets one class **reuse and extend** another class.\n",
    "\n",
    "Here, we create a base class `Sequence`, and then specialized versions for\n",
    "`DNASequence` and `ProteinSequence`.\n"
   ]
  },
  {
   "cell_type": "code",
   "execution_count": null,
   "id": "5b73b381",
   "metadata": {},
   "outputs": [],
   "source": [
    "\n",
    "class Sequence:\n",
    "    def __init__(self, seq, organism):\n",
    "        self.seq = seq.upper()\n",
    "        self.organism = organism\n",
    "\n",
    "    def length(self):\n",
    "        return len(self.seq)\n",
    "\n",
    "class DNASequence(Sequence):\n",
    "    def gc_content(self):\n",
    "        gc = sum(base in \"GC\" for base in self.seq)\n",
    "        return (gc / len(self.seq)) * 100\n",
    "\n",
    "class ProteinSequence(Sequence):\n",
    "    def molecular_weight(self):\n",
    "        weights = {'A': 89, 'C': 121, 'D': 133, 'E': 147}\n",
    "        return sum(weights.get(aa, 110) for aa in self.seq)\n",
    "\n",
    "dna = DNASequence(\"ATGCGC\", \"E. coli\")\n",
    "protein = ProteinSequence(\"ACDE\", \"Human\")\n",
    "\n",
    "print(f\"DNA GC%: {dna.gc_content():.2f}\")\n",
    "print(f\"Protein MW: {protein.molecular_weight()} Da\")\n"
   ]
  },
  {
   "cell_type": "markdown",
   "id": "ebd38c8d",
   "metadata": {},
   "source": [
    "## 🧠 4. Using `super()`"
   ]
  },
  {
   "cell_type": "markdown",
   "id": "d92b10a1",
   "metadata": {},
   "source": [
    "\n",
    "`super()` allows you to **call the parent class's methods** and constructors,\n",
    "which is especially useful when you extend functionality.\n"
   ]
  },
  {
   "cell_type": "code",
   "execution_count": null,
   "id": "2a37d7c7",
   "metadata": {},
   "outputs": [],
   "source": [
    "\n",
    "class RNASequence(Sequence):\n",
    "    def __init__(self, seq, organism, type=\"mRNA\"):\n",
    "        super().__init__(seq.replace(\"T\", \"U\"), organism)\n",
    "        self.type = type\n",
    "\n",
    "rna = RNASequence(\"ATGCTT\", \"Human\")\n",
    "print(rna.seq)\n",
    "print(rna.length())\n"
   ]
  },
  {
   "cell_type": "markdown",
   "id": "bdc44d38",
   "metadata": {},
   "source": [
    "## 🔁 5. Polymorphism"
   ]
  },
  {
   "cell_type": "markdown",
   "id": "4f32abe0",
   "metadata": {},
   "source": [
    "\n",
    "Polymorphism means **different classes can use the same method name**\n",
    "but perform different actions — just like different biological molecules\n",
    "can perform analogous roles in different contexts.\n"
   ]
  },
  {
   "cell_type": "code",
   "execution_count": null,
   "id": "b4692de3",
   "metadata": {},
   "outputs": [],
   "source": [
    "\n",
    "class DNASequence(Sequence):\n",
    "    def info(self):\n",
    "        return f\"DNA ({self.organism}): {len(self.seq)} bp\"\n",
    "\n",
    "class ProteinSequence(Sequence):\n",
    "    def info(self):\n",
    "        return f\"Protein ({self.organism}): {len(self.seq)} aa\"\n",
    "\n",
    "seqs = [DNASequence(\"ATGC\", \"Mouse\"), ProteinSequence(\"ACDE\", \"Human\")]\n",
    "for s in seqs:\n",
    "    print(s.info())\n"
   ]
  },
  {
   "cell_type": "markdown",
   "id": "01c93ffe",
   "metadata": {},
   "source": [
    "## 🧫 6. Composition"
   ]
  },
  {
   "cell_type": "markdown",
   "id": "525a72bb",
   "metadata": {},
   "source": [
    "\n",
    "Composition means **using other objects inside a class** rather than inheriting from them.\n",
    "\n",
    "For example, a `Gene` class might contain a `DNASequence` object.\n"
   ]
  },
  {
   "cell_type": "code",
   "execution_count": null,
   "id": "6b2d0a7b",
   "metadata": {},
   "outputs": [],
   "source": [
    "\n",
    "class Gene:\n",
    "    def __init__(self, name, dna_sequence):\n",
    "        self.name = name\n",
    "        self.dna = dna_sequence\n",
    "\n",
    "    def describe(self):\n",
    "        print(f\"Gene {self.name} in {self.dna.organism}, length {self.dna.length()} bp\")\n",
    "\n",
    "gene = Gene(\"LacZ\", DNASequence(\"ATGCGCTTAG\", \"E. coli\"))\n",
    "gene.describe()\n"
   ]
  },
  {
   "cell_type": "markdown",
   "id": "c5a64abc",
   "metadata": {},
   "source": [
    "\n",
    "## 🎯 Summary\n",
    "\n",
    "We covered how **Object-Oriented Programming** maps beautifully to biological concepts:\n",
    "\n",
    "| Concept | Python OOP | Bioinformatics Analogy |\n",
    "|----------|-------------|------------------------|\n",
    "| Class | Blueprint | Gene model |\n",
    "| Object | Instance | A specific gene sequence |\n",
    "| Inheritance | Traits passed down | Evolutionary descent |\n",
    "| Encapsulation | Internal details | Hidden molecular mechanisms |\n",
    "| Polymorphism | Same method, different behavior | Different enzymes performing similar functions |\n",
    "\n"
   ]
  }
 ],
 "metadata": {
  "language_info": {
   "name": "python"
  }
 },
 "nbformat": 4,
 "nbformat_minor": 5
}
