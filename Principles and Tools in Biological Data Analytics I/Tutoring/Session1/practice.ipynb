{
 "cells": [
  {
   "cell_type": "code",
   "execution_count": null,
   "id": "ae5cffc5",
   "metadata": {},
   "outputs": [
    {
     "name": "stdout",
     "output_type": "stream",
     "text": [
      "No discount\n",
      "7.5\n"
     ]
    }
   ],
   "source": [
    "# Solution for movie ticket pricing\n",
    "price = 10\n",
    "age = 21\n",
    "child_limit_age = 5\n",
    "adult_limit_age = 18\n",
    "senior_limit_age = 65\n",
    "is_student = True\n",
    "is_senior = False\n",
    "day = \"Thursday\"\n",
    "\n",
    "age_discount = 1.0\n",
    "# Age discount\n",
    "if age < child_limit_age:\n",
    "    age_discount = 0.5 # 50% discount -> 0.5\n",
    "elif age >= senior_limit_age:\n",
    "    age_discount = 0.65 # 35% discount 1.0 - 0.35\n",
    "    is_senior = True\n",
    "else:\n",
    "    print(\"No discount\")\n",
    "\n",
    "senior_discount = 1.0\n",
    "# Senior free day Thursday\n",
    "if day == \"Thursday\" and is_senior:\n",
    "    senior_discount = 0\n",
    "\n",
    "student_discount = 1.0\n",
    "# Student discount\n",
    "if is_student:\n",
    "    student_discount = 0.75\n",
    "\n",
    "final_price = price * age_discount * senior_discount * student_discount\n",
    "\n",
    "print(final_price)\n"
   ]
  },
  {
   "cell_type": "code",
   "execution_count": null,
   "id": "530dec9f",
   "metadata": {},
   "outputs": [
    {
     "name": "stdout",
     "output_type": "stream",
     "text": [
      "Access granted\n"
     ]
    }
   ],
   "source": [
    "password = \"\"\n",
    "# password has to be python123\n",
    "while password != \"python123\": # != False password and the python123 is\n",
    "    password = input(\"Enter password: \")\n",
    " \n",
    "print(\"Access granted\")\n"
   ]
  }
 ],
 "metadata": {
  "kernelspec": {
   "display_name": "Python 3",
   "language": "python",
   "name": "python3"
  },
  "language_info": {
   "codemirror_mode": {
    "name": "ipython",
    "version": 3
   },
   "file_extension": ".py",
   "mimetype": "text/x-python",
   "name": "python",
   "nbconvert_exporter": "python",
   "pygments_lexer": "ipython3",
   "version": "3.10.12"
  }
 },
 "nbformat": 4,
 "nbformat_minor": 5
}
