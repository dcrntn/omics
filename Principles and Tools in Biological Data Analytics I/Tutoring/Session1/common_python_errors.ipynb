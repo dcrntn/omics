{
 "cells": [
  {
   "cell_type": "markdown",
   "id": "14db51c9",
   "metadata": {},
   "source": [
    "\n",
    "# ⚠️ Common Python Errors — Demonstration Notebook\n",
    "\n",
    "This notebook shows some of the **most common mistakes beginners make in Python**, along with explanations and corrected examples.\n"
   ]
  },
  {
   "cell_type": "markdown",
   "id": "ef7c5e15",
   "metadata": {},
   "source": [
    "## 1. Missing Colon (`:`)"
   ]
  },
  {
   "cell_type": "code",
   "execution_count": null,
   "id": "21af481a",
   "metadata": {},
   "outputs": [],
   "source": [
    "\n",
    "# ❌ Incorrect\n",
    "# if x == 5\n",
    "#     print(\"x is 5\")\n",
    "\n",
    "# ✅ Correct\n",
    "x = 5\n",
    "if x == 5:\n",
    "    print(\"x is 5\")\n"
   ]
  },
  {
   "cell_type": "markdown",
   "id": "9cea236c",
   "metadata": {},
   "source": [
    "## 2. Indentation Error"
   ]
  },
  {
   "cell_type": "code",
   "execution_count": null,
   "id": "428361d2",
   "metadata": {},
   "outputs": [],
   "source": [
    "\n",
    "# ❌ Incorrect\n",
    "# for i in range(3):\n",
    "# print(i)\n",
    "\n",
    "# ✅ Correct\n",
    "for i in range(3):\n",
    "    print(i)\n"
   ]
  },
  {
   "cell_type": "markdown",
   "id": "86dd4dae",
   "metadata": {},
   "source": [
    "## 3. Using Undefined Variables (`NameError`)"
   ]
  },
  {
   "cell_type": "code",
   "execution_count": null,
   "id": "f81c35e7",
   "metadata": {},
   "outputs": [],
   "source": [
    "\n",
    "# ❌ Incorrect\n",
    "# print(age)\n",
    "\n",
    "# ✅ Correct\n",
    "age = 20\n",
    "print(age)\n"
   ]
  },
  {
   "cell_type": "markdown",
   "id": "16589e90",
   "metadata": {},
   "source": [
    "## 4. Type Mismatch (`TypeError`)"
   ]
  },
  {
   "cell_type": "code",
   "execution_count": null,
   "id": "72aff11d",
   "metadata": {},
   "outputs": [],
   "source": [
    "\n",
    "# ❌ Incorrect\n",
    "# print(\"Age: \" + 25)\n",
    "\n",
    "# ✅ Correct\n",
    "print(\"Age: \" + str(25))\n"
   ]
  },
  {
   "cell_type": "markdown",
   "id": "65468970",
   "metadata": {},
   "source": [
    "## 5. Invalid Value Conversion (`ValueError`)"
   ]
  },
  {
   "cell_type": "code",
   "execution_count": null,
   "id": "a4e4f497",
   "metadata": {},
   "outputs": [],
   "source": [
    "\n",
    "# ❌ Incorrect\n",
    "# num = int(\"ten\")\n",
    "\n",
    "# ✅ Correct\n",
    "num = int(\"10\")\n",
    "print(num)\n"
   ]
  },
  {
   "cell_type": "markdown",
   "id": "597f864d",
   "metadata": {},
   "source": [
    "## 6. Index Out of Range (`IndexError`)"
   ]
  },
  {
   "cell_type": "code",
   "execution_count": null,
   "id": "49185bab",
   "metadata": {},
   "outputs": [],
   "source": [
    "\n",
    "numbers = [1, 2, 3]\n",
    "\n",
    "# ❌ Incorrect\n",
    "# print(numbers[3])  # list indices start at 0\n",
    "\n",
    "# ✅ Correct\n",
    "print(numbers[2])  # last valid index\n"
   ]
  },
  {
   "cell_type": "markdown",
   "id": "e35fb292",
   "metadata": {},
   "source": [
    "## 7. Missing Dictionary Key (`KeyError`)"
   ]
  },
  {
   "cell_type": "code",
   "execution_count": null,
   "id": "f1105c3b",
   "metadata": {},
   "outputs": [],
   "source": [
    "\n",
    "person = {\"name\": \"Alice\", \"age\": 25}\n",
    "\n",
    "# ❌ Incorrect\n",
    "# print(person[\"city\"])\n",
    "\n",
    "# ✅ Correct\n",
    "print(person.get(\"city\", \"City not found\"))\n"
   ]
  },
  {
   "cell_type": "markdown",
   "id": "958dbf96",
   "metadata": {},
   "source": [
    "## 8. Syntax Errors"
   ]
  },
  {
   "cell_type": "code",
   "execution_count": null,
   "id": "0a89d866",
   "metadata": {},
   "outputs": [],
   "source": [
    "\n",
    "# ❌ Incorrect\n",
    "# print('Hello'\n",
    "\n",
    "# ✅ Correct\n",
    "print('Hello')\n"
   ]
  },
  {
   "cell_type": "markdown",
   "id": "54583ac3",
   "metadata": {},
   "source": [
    "## 9. Division by Zero (`ZeroDivisionError`)"
   ]
  },
  {
   "cell_type": "code",
   "execution_count": null,
   "id": "e3c4ea4b",
   "metadata": {},
   "outputs": [],
   "source": [
    "\n",
    "# ❌ Incorrect\n",
    "# print(10 / 0)\n",
    "\n",
    "# ✅ Correct\n",
    "print(10 / 2)\n"
   ]
  },
  {
   "cell_type": "markdown",
   "id": "4878ac5f",
   "metadata": {},
   "source": [
    "## 10. Attribute Error (`AttributeError`)"
   ]
  },
  {
   "cell_type": "code",
   "execution_count": null,
   "id": "e980a5ef",
   "metadata": {},
   "outputs": [],
   "source": [
    "\n",
    "text = \"hello\"\n",
    "\n",
    "# ❌ Incorrect\n",
    "# text.append('!')\n",
    "\n",
    "# ✅ Correct\n",
    "text = text + '!'\n",
    "print(text)\n"
   ]
  }
 ],
 "metadata": {
  "kernelspec": {
   "display_name": "Python 3",
   "language": "python",
   "name": "python3"
  },
  "language_info": {
   "codemirror_mode": {
    "name": "ipython",
    "version": 3
   },
   "file_extension": ".py",
   "mimetype": "text/x-python",
   "name": "python",
   "nbconvert_exporter": "python",
   "pygments_lexer": "ipython3",
   "version": "3.10.12"
  }
 },
 "nbformat": 4,
 "nbformat_minor": 5
}
