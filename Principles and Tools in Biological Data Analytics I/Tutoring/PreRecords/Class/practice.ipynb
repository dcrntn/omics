{
 "cells": [
  {
   "cell_type": "code",
   "execution_count": null,
   "id": "97b20abb",
   "metadata": {},
   "outputs": [
    {
     "name": "stdout",
     "output_type": "stream",
     "text": [
      "VW is driving.\n",
      "White\n",
      "BMW is driving.\n",
      "Porche is driving.\n",
      "Porche is charging its 75kWh battery.\n",
      "Black\n"
     ]
    }
   ],
   "source": [
    "class Car:\n",
    "    # Constructor\n",
    "    def __init__(self, brand, color):\n",
    "        # Attributes\n",
    "        self.brand = brand\n",
    "        self.color = color\n",
    "\n",
    "    # Method\n",
    "    def drive(self):\n",
    "        print(self.brand, \"is driving.\")\n",
    "    \n",
    "class ElectricCar(Car):\n",
    "    def __init__(self, brand, color, battery_size):\n",
    "        super().__init__(brand, color)\n",
    "        self.battery_size = battery_size\n",
    "\n",
    "    def charge(self):\n",
    "        print(f\"{self.brand} is charging its {self.battery_size}kWh battery.\")\n",
    "\n",
    "\n",
    "\n",
    "car1 = Car(\"VW\", \"White\")\n",
    "car1.drive()\n",
    "print(car1.color)\n",
    "\n",
    "car2 = Car(\"BMW\", \"Black\")\n",
    "car2.drive()\n",
    "\n",
    "ec = ElectricCar(\"Porche\", \"Black\", 75)\n",
    "ec.drive()\n",
    "ec.charge()\n",
    "print(ec.color)\n"
   ]
  },
  {
   "cell_type": "code",
   "execution_count": null,
   "id": "39feca9d",
   "metadata": {},
   "outputs": [
    {
     "name": "stdout",
     "output_type": "stream",
     "text": [
      "Alice 20\n",
      "<__main__.Student object at 0x7dcb841e2d10>\n",
      "Bob 22\n",
      "Alice 20\n",
      "<__main__.Student object at 0x7dcb841e0fd0>\n"
     ]
    }
   ],
   "source": [
    "class Student:\n",
    "    def __init__(self, name, age):\n",
    "        self.name = name\n",
    "        self.age = age\n",
    "\n",
    "\n",
    "s1 = Student(\"Alice\", 20)\n",
    "print(s1.name, s1.age)\n",
    "\n",
    "s2 = Student(\"Bob\", 22)\n",
    "print(s2.name, s2.age)\n",
    "\n",
    "s3 = Student(\"Alice\", 20)\n",
    "print(s3.name, s3.age)\n"
   ]
  },
  {
   "cell_type": "code",
   "execution_count": 10,
   "id": "9795d62c",
   "metadata": {},
   "outputs": [
    {
     "name": "stdout",
     "output_type": "stream",
     "text": [
      "Buddy is barking loudly!\n",
      "Lucy is barking loudly!\n"
     ]
    }
   ],
   "source": [
    "class Dog:\n",
    "    def __init__(self, name):\n",
    "        self.name = name\n",
    "\n",
    "    def bark(self):\n",
    "        print(self.name, \"is barking loudly!\")\n",
    "\n",
    "\n",
    "dog1 = Dog(\"Buddy\")\n",
    "dog1.bark()\n",
    "\n",
    "dog2= Dog(\"Lucy\")\n",
    "dog2.bark()"
   ]
  },
  {
   "cell_type": "code",
   "execution_count": 16,
   "id": "00040fbc",
   "metadata": {},
   "outputs": [
    {
     "name": "stdout",
     "output_type": "stream",
     "text": [
      "Alice\n",
      "150\n"
     ]
    }
   ],
   "source": [
    "class BankAccount:\n",
    "    def __init__(self, owner, balance):\n",
    "        self.owner = owner          # public\n",
    "        self.__balance = balance    # private\n",
    "\n",
    "    def deposit(self, amount):     # public method\n",
    "        self.__balance += amount\n",
    "        return self.__get_balance()\n",
    "\n",
    "    def __get_balance(self):         # public method to access private attribute\n",
    "        return self.__balance\n",
    "\n",
    "account = BankAccount(\"Alice\", 100)\n",
    "print(account.owner)         # works\n",
    "print(account.deposit(50)) # works\n",
    "# print(account.__balance)    # error! cannot access private attribute"
   ]
  },
  {
   "cell_type": "code",
   "execution_count": 23,
   "id": "83fb98ec",
   "metadata": {},
   "outputs": [
    {
     "name": "stdout",
     "output_type": "stream",
     "text": [
      "Cirmi Meow\n",
      "Buksi Woof\n"
     ]
    }
   ],
   "source": [
    "class Animal:\n",
    "    def __init__(self, name):\n",
    "        self.name = name\n",
    "\n",
    "    def speak(self):\n",
    "        pass  # base method, to be overridden by child classes\n",
    "\n",
    "class Cat(Animal):\n",
    "    def speak(self):\n",
    "        print(self.name + \" Meow\")\n",
    "\n",
    "class Dog(Animal):\n",
    "    def speak(self):\n",
    "        print(self.name + \" Woof\")\n",
    "\n",
    "animals = [Cat(\"Cirmi\"), Dog(\"Buksi\")]\n",
    "for animal in animals:\n",
    "    animal.speak()"
   ]
  },
  {
   "cell_type": "code",
   "execution_count": null,
   "id": "1639b0a9",
   "metadata": {},
   "outputs": [
    {
     "name": "stdout",
     "output_type": "stream",
     "text": [
      "False\n",
      "True\n",
      "It's already at the library!\n",
      "Not available!\n"
     ]
    }
   ],
   "source": [
    "# Library book managment\n",
    "\n",
    "class Book:\n",
    "    \"\"\"\n",
    "    Class for book handling in a library\n",
    "    \"\"\"\n",
    "    def __init__(self, title, author):\n",
    "        self.title = title\n",
    "        self.author = author\n",
    "        self.__available = True\n",
    "\n",
    "    def borrow_book(self):\n",
    "        # Borrowing book from library\n",
    "        \n",
    "        if self.is_avaliable():\n",
    "            self.__available = False\n",
    "        else:\n",
    "            print(\"Not available!\")\n",
    "\n",
    "    def return_book(self):\n",
    "        if not self.is_avaliable():\n",
    "            self.__available = True\n",
    "        else:\n",
    "            print(\"It's already at the library!\")\n",
    "\n",
    "    def is_avaliable(self):\n",
    "        return self.__available\n",
    "\n",
    "book_1 = Book(\"Rotkappchen\", \"Grimm\")\n",
    "book_2 = Book(\"Some book title\", \"Some author\")\n",
    "\n",
    "\n",
    "book_1.borrow_book()\n",
    "print(book_1.is_avaliable())\n",
    "book_1.return_book()\n",
    "print(book_1.is_avaliable())\n",
    "book_1.return_book()\n",
    "\n",
    "book_1.borrow_book()\n",
    "book_1.borrow_book()\n",
    "\n",
    "\n"
   ]
  }
 ],
 "metadata": {
  "kernelspec": {
   "display_name": "Python 3",
   "language": "python",
   "name": "python3"
  },
  "language_info": {
   "codemirror_mode": {
    "name": "ipython",
    "version": 3
   },
   "file_extension": ".py",
   "mimetype": "text/x-python",
   "name": "python",
   "nbconvert_exporter": "python",
   "pygments_lexer": "ipython3",
   "version": "3.10.12"
  }
 },
 "nbformat": 4,
 "nbformat_minor": 5
}
