{
 "cells": [
  {
   "cell_type": "code",
   "execution_count": null,
   "id": "6a1dbf1b",
   "metadata": {},
   "outputs": [
    {
     "name": "stdout",
     "output_type": "stream",
     "text": [
      "The total calculated price, for 1. list is: 19\n",
      "The total calculated price, for 2. list is: 92\n",
      "The total calculated price, for 3. list is: 30.0\n",
      "The total calculated price, for 4. list is: 100.0\n"
     ]
    }
   ],
   "source": [
    "# One solution for question nr 1. Grocery Bill Calculator\n",
    "\n",
    "# Multiple items as input -> list with dict\n",
    "# Total as output\n",
    "\n",
    "def print_results(total_calculated_price, number_list):\n",
    "    print(f\"The total calculated price, for {number_list}. list is: {total_calculated_price}\")\n",
    "\n",
    "def total_calc(items_as_list):\n",
    "    \"\"\"\n",
    "    This function calculates the total of a bill, based on the included list.\n",
    "    \"\"\"\n",
    "    total_price = 0\n",
    "    for item in items_as_list:\n",
    "        temp = item[\"price\"] * item[\"quantity\"]\n",
    "        total_price += temp # total_price = total_price + temp\n",
    "\n",
    "    return total_price\n",
    "\n",
    "\n",
    "l1 = [{\"name\": \"Apple\", \"price\": 1, \"quantity\": 6}, {\"name\": \"Banana\", \"price\": 2, \"quantity\": 3}, {\"name\": \"Chicken\", \"price\": 7, \"quantity\": 1}]\n",
    "result_1 = total_calc(l1)\n",
    "l2 = [{\"name\": \"Apple\", \"price\": 2, \"quantity\": 6}, {\"name\": \"Banana\", \"price\": 5, \"quantity\": 8}, {\"name\": \"Chicken\", \"price\": 4, \"quantity\": 10}]\n",
    "result_2 = total_calc(l2)\n",
    "l3 = [{\"name\": \"Apple\", \"price\": 0.5, \"quantity\": 60}, {\"name\": \"Banana\", \"price\": 10, \"quantity\": 0}, {\"name\": \"Chicken\", \"price\": 70, \"quantity\": 0}]\n",
    "result_3 = total_calc(l3)\n",
    "l4 = [{\"name\": \"Apple\", \"price\": 10, \"quantity\": 6}, {\"name\": \"Banana\", \"price\": 0.1, \"quantity\": 300}, {\"name\": \"Chicken\", \"price\": 10, \"quantity\": 1}]\n",
    "result_4 = total_calc(l4)\n",
    "\n",
    "print_results(result_1,1)\n",
    "print_results(result_2,2)\n",
    "print_results(result_3,3)\n",
    "print_results(result_4,4)"
   ]
  }
 ],
 "metadata": {
  "kernelspec": {
   "display_name": "Python 3",
   "language": "python",
   "name": "python3"
  },
  "language_info": {
   "codemirror_mode": {
    "name": "ipython",
    "version": 3
   },
   "file_extension": ".py",
   "mimetype": "text/x-python",
   "name": "python",
   "nbconvert_exporter": "python",
   "pygments_lexer": "ipython3",
   "version": "3.10.12"
  }
 },
 "nbformat": 4,
 "nbformat_minor": 5
}
