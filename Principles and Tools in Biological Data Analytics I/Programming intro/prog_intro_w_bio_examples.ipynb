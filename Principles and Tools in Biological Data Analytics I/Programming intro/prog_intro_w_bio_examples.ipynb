{
 "cells": [
  {
   "cell_type": "markdown",
   "metadata": {},
   "source": [
    "# 🧬 Introduction to Programming with Bio examples\n",
    "This notebook will introduce you to the **fundamentals of programming** using **Python**.\n",
    "\n",
    "It is tailored for **biologists** who are new to coding — connecting core programming ideas to familiar biological concepts.\n",
    "\n",
    "We’ll explore:\n",
    "- Basic arithmetic operations\n",
    "- Variables and data types\n",
    "- Functions\n",
    "\n",
    "\n",
    "---\n",
    "\n",
    "Note: It is mainly built how I imagine programming should be for data analysis and **DOES NOT COVER** everything we went through the lectures! "
   ]
  },
  {
   "cell_type": "markdown",
   "metadata": {},
   "source": [
    "## 🔹 1. Arithmetic Operations — The DNA of Programming\n",
    "Programming often starts with math — the simplest building block.\n",
    "\n",
    "Think of it like **biochemical reactions**: inputs (reactants) are transformed into outputs (products) through defined rules. Similarly, numbers can be combined using mathematical operations."
   ]
  },
  {
   "cell_type": "code",
   "execution_count": 26,
   "id": "1e46ef1a",
   "metadata": {},
   "outputs": [
    {
     "name": "stdout",
     "output_type": "stream",
     "text": [
      "10 8 24 4.5\n"
     ]
    }
   ],
   "source": [
    "# Arithmetic examples\n",
    "a = 7 + 3\n",
    "b = 10 - 2\n",
    "c = 4 * 6\n",
    "d = 9 / 2  # float division\n",
    "print(a, b, c, d)"
   ]
  },
  {
   "cell_type": "markdown",
   "id": "79f42ed5",
   "metadata": {},
   "source": [
    "In biology terms:\n",
    "- **Addition** is like combining two sample volumes.\n",
    "- **Subtraction** is like removing a reagent.\n",
    "- **Multiplication** is like amplifying DNA in PCR.\n",
    "- **Division** is like diluting a sample.\n",
    "\n",
    "Each operation transforms numbers just as biological reactions transform molecules."
   ]
  },
  {
   "cell_type": "markdown",
   "id": "e340956e",
   "metadata": {},
   "source": [
    "---\n",
    "## 🔹 2. Variables — Biological Containers\n",
    "A **variable** stores information, just like a **cell stores molecules**.\n",
    "\n",
    "Think of a variable as a labeled test tube. The label (name) identifies what’s inside, and the contents (value) can change over time."
   ]
  },
  {
   "cell_type": "code",
   "execution_count": 27,
   "id": "c30be694",
   "metadata": {},
   "outputs": [
    {
     "name": "stdout",
     "output_type": "stream",
     "text": [
      "42\n",
      "E.coli Culture\n",
      "True\n"
     ]
    }
   ],
   "source": [
    "# Variables: assigning data to names\n",
    "gene_expression_level = 42  # Expression level of a gene\n",
    "sample_name = \"E.coli Culture\"\n",
    "is_control_sample = True\n",
    "\n",
    "print(gene_expression_level)\n",
    "print(sample_name)\n",
    "print(is_control_sample)"
   ]
  },
  {
   "cell_type": "markdown",
   "id": "33356a9f",
   "metadata": {},
   "source": [
    "Explanation:\n",
    "- `gene_expression_level` is a **number** — like a quantified protein or gene intensity.\n",
    "- `sample_name` is **text** — describing your biological sample.\n",
    "- `is_control_sample` is a **Boolean (True/False)** — often used in experiments to indicate whether something is a control or not."
   ]
  },
  {
   "cell_type": "markdown",
   "id": "3f66a9b8",
   "metadata": {},
   "source": [
    "---\n",
    "## 🔹 3. Data Types — The Building Blocks\n",
    "Just like biological systems have **different molecule types** (DNA, RNA, proteins), programming has **data types**.\n",
    "\n",
    "| Data Type | Example | Description |\n",
    "|------------|----------|--------------|\n",
    "| Integer (`int`) | 10 | Whole numbers |\n",
    "| Float (`float`) | 3.14 | Decimal numbers |\n",
    "| String (`str`) | 'ATCG' | Text data |\n",
    "| Boolean (`bool`) | True / False | Logical values |\n",
    "\n",
    "Each data type behaves differently — just like enzymes interact differently with DNA vs. proteins."
   ]
  },
  {
   "cell_type": "code",
   "execution_count": 28,
   "id": "fdc29c9a",
   "metadata": {},
   "outputs": [
    {
     "name": "stdout",
     "output_type": "stream",
     "text": [
      "<class 'int'>\n",
      "<class 'float'>\n",
      "<class 'str'>\n",
      "<class 'bool'>\n"
     ]
    }
   ],
   "source": [
    "# Example of different data types\n",
    "gene_count = 2500           # int\n",
    "average_length = 1350.75    # float\n",
    "sequence = \"ATCGGCTA\"       # string\n",
    "is_mutant = False           # boolean\n",
    "\n",
    "print(type(gene_count))\n",
    "print(type(average_length))\n",
    "print(type(sequence))\n",
    "print(type(is_mutant))"
   ]
  },
  {
   "cell_type": "markdown",
   "id": "3140ee1c",
   "metadata": {},
   "source": [
    "---\n",
    "## 🔹 4. Functions — Reusable Biological Protocols\n",
    "A **function** is like a **lab protocol**: you define it once, then reuse it whenever needed.\n",
    "\n",
    "It takes **inputs** (like reagents), performs **steps**, and gives **outputs** (results)."
   ]
  },
  {
   "cell_type": "code",
   "execution_count": 29,
   "id": "d1beaff6",
   "metadata": {},
   "outputs": [
    {
     "name": "stdout",
     "output_type": "stream",
     "text": [
      "Diluted concentration: 10.0 ng/µL\n"
     ]
    }
   ],
   "source": [
    "# Function to calculate DNA concentration after dilution\n",
    "def diluted_concentration(original_conc, dilution_factor):\n",
    "    result = original_conc / dilution_factor\n",
    "    return result\n",
    "\n",
    "# Example usage:\n",
    "c1 = 50  # ng/µL\n",
    "dilution_factor = 5\n",
    "c2 = diluted_concentration(c1, dilution_factor)\n",
    "\n",
    "print(f\"Diluted concentration: {c2} ng/µL\")"
   ]
  },
  {
   "cell_type": "markdown",
   "id": "e0b9e9b7",
   "metadata": {},
   "source": [
    "Here:\n",
    "- `diluted_concentration()` is like a **custom lab function**.\n",
    "- You provide **inputs** (`original_conc`, `dilution_factor`).\n",
    "- It performs a calculation.\n",
    "- It returns the **output**.\n",
    "\n",
    "You can now reuse this function anywhere — just as you reuse lab protocols in different experiments."
   ]
  },
  {
   "cell_type": "markdown",
   "id": "1d015ef0",
   "metadata": {},
   "source": [
    "---\n",
    "## 🔹 5. Real Example — Average Gene Expression\n",
    "Let's use what we’ve learned to calculate the **average gene expression** across samples."
   ]
  },
  {
   "cell_type": "code",
   "execution_count": 30,
   "id": "45d4bd80",
   "metadata": {},
   "outputs": [
    {
     "name": "stdout",
     "output_type": "stream",
     "text": [
      "Average gene expression: 14.44\n"
     ]
    }
   ],
   "source": [
    "# Function to calculate average gene expression\n",
    "def average_expression(expressions):\n",
    "    total = sum(expressions)\n",
    "    avg = total / len(expressions)\n",
    "    return avg\n",
    "\n",
    "# Example dataset (arbitrary expression values)\n",
    "gene_expressions = [12.5, 15.8, 14.2, 16.0, 13.7]\n",
    "\n",
    "avg_expression = average_expression(gene_expressions)\n",
    "print(f\"Average gene expression: {avg_expression:.2f}\")"
   ]
  },
  {
   "cell_type": "markdown",
   "id": "63f237de",
   "metadata": {},
   "source": [
    "This simulates measuring gene expression levels across samples, summing them, and finding the average — similar to data analysis in qPCR experiments."
   ]
  },
  {
   "cell_type": "markdown",
   "id": "ab24ab94",
   "metadata": {},
   "source": [
    "---\n",
    "## 🔹 6. Control Flow — “Decision Making and Repetition in Biology”\n",
    "\n",
    "In living systems, **decisions** and **repetitive processes** are everywhere:\n",
    "\n",
    "- 🧬 Cells decide whether to **divide**, **repair DNA**, or **undergo apoptosis**.  \n",
    "- ⚗️ Enzymes repeatedly **catalyze reactions**.  \n",
    "- 🧫 Experimental protocols often involve **repeating steps** until a condition is met.\n",
    "\n",
    "Programming follows the **same logic**!  \n",
    "We use:\n",
    "\n",
    "- **`if / elif / else`** → to **make decisions** based on conditions.  \n",
    "- **`for` loops** → to **repeat actions** a set number of times.  \n",
    "- **`while` loops** → to **repeat actions** **until a condition changes**.\n",
    "\n",
    "Each of these control structures helps us **mimic biological decision-making and repetition** in code,  \n",
    "making programming feel much like running an automated experiment!\n"
   ]
  },
  {
   "cell_type": "markdown",
   "id": "b3545aed",
   "metadata": {},
   "source": [
    "### 🧠 Example 1 — Conditional Logic with **`if / elif / else`**\n",
    "\n",
    "Think of this as a **cellular stress response**.  \n",
    "Depending on the **temperature**, the cell reacts differently — **mild stress**, **heat shock**, or **normal operation**."
   ]
  },
  {
   "cell_type": "code",
   "execution_count": 31,
   "id": "a9b60c85",
   "metadata": {},
   "outputs": [
    {
     "name": "stdout",
     "output_type": "stream",
     "text": [
      "🌡️ High temperature — activating heat shock proteins.\n"
     ]
    }
   ],
   "source": [
    "# Conditional statements: if / elif / else\n",
    "# ----------------------------------------\n",
    "# Decide how a cell responds depending on temperature.\n",
    "\n",
    "temperature = 42  # current temperature in °C\n",
    "\n",
    "if temperature > 45:\n",
    "    print(\"🔥 Severe heat stress — protein denaturation likely!\")\n",
    "elif temperature > 40:\n",
    "    print(\"🌡️ High temperature — activating heat shock proteins.\")\n",
    "else:\n",
    "    print(\"✅ Temperature within normal range.\")\n"
   ]
  },
  {
   "cell_type": "markdown",
   "id": "b307d9f7",
   "metadata": {},
   "source": [
    "\n",
    "**Explanation:**\n",
    "\n",
    "- **`if`** → checks the **first condition**.  \n",
    "- **`elif`** (_“else if”_) → checks **another condition** only if the first one was **false**.  \n",
    "- **`else`** → runs when **none of the above** are true.  \n",
    "\n",
    "👉 In **biological terms**, it’s like **different stress pathways** activating depending on the **stimulus level**."
   ]
  },
  {
   "cell_type": "markdown",
   "id": "76d50795",
   "metadata": {},
   "source": [
    "### 🧪 Example 2 — **`for` Loops:** Repeating Tasks for Each Sample\n",
    "\n",
    "In a **lab**, you might have a **rack of samples** and need to **process each one** using the same steps.  \n",
    "A **`for` loop** automates this **repetition** — much like a pipetting robot running the same protocol across multiple wells.\n"
   ]
  },
  {
   "cell_type": "code",
   "execution_count": 32,
   "id": "5126f3b9",
   "metadata": {},
   "outputs": [
    {
     "name": "stdout",
     "output_type": "stream",
     "text": [
      "Processing Sample_1...\n",
      "Processing Sample_2...\n",
      "Processing Sample_3...\n",
      "Processing Control...\n",
      "✅ All samples processed successfully!\n"
     ]
    }
   ],
   "source": [
    "# for loop example\n",
    "# ----------------\n",
    "# Iterate through a list of samples and perform the same operation on each.\n",
    "\n",
    "samples = [\"Sample_1\", \"Sample_2\", \"Sample_3\", \"Control\"]\n",
    "\n",
    "for sample in samples:\n",
    "    print(f\"Processing {sample}...\")\n",
    "\n",
    "print(\"✅ All samples processed successfully!\")\n"
   ]
  },
  {
   "cell_type": "markdown",
   "id": "069ebe90",
   "metadata": {},
   "source": [
    "\n",
    "**Explanation:**\n",
    "\n",
    "- The **`for` loop** goes through **each item** in the list `samples`.  \n",
    "- Each **iteration** assigns one sample name to the variable **`sample`**.  \n",
    "- This mirrors **lab automation** — doing the **same procedure for every sample** in your experiment.\n",
    "\n",
    "🧬 Just like running a qPCR or ELISA plate, a `for` loop ensures **consistent, repeatable operations** across all samples."
   ]
  },
  {
   "cell_type": "markdown",
   "id": "0924482e",
   "metadata": {},
   "source": [
    "### 🔁 Example 3 — **`while` Loops:** Repeat Until a Condition Changes\n",
    "\n",
    "A **`while` loop** keeps running **as long as a condition is true**.  \n",
    "This is like **bacterial growth**: cells keep **dividing** while **nutrients are available**.\n"
   ]
  },
  {
   "cell_type": "code",
   "execution_count": 33,
   "id": "25ef568e",
   "metadata": {},
   "outputs": [
    {
     "name": "stdout",
     "output_type": "stream",
     "text": [
      "Current population: 200\n",
      "Current population: 400\n",
      "Current population: 800\n",
      "Current population: 1600\n",
      "🧫 Growth stopped — population reached carrying capacity.\n"
     ]
    }
   ],
   "source": [
    "# while loop example\n",
    "# ------------------\n",
    "# Simulate bacterial population growth until it reaches a threshold.\n",
    "\n",
    "population = 100  # starting cell count\n",
    "max_population = 1000\n",
    "\n",
    "while population < max_population:\n",
    "    population *= 2  # cells double each generation\n",
    "    print(f\"Current population: {population}\")\n",
    "\n",
    "print(\"🧫 Growth stopped — population reached carrying capacity.\")\n"
   ]
  },
  {
   "cell_type": "markdown",
   "id": "98fd5332",
   "metadata": {},
   "source": [
    "**Explanation:**\n",
    "\n",
    "- The loop keeps running as long as **`population < max_population`**.  \n",
    "- Once the condition becomes **false**, the loop **ends**.  \n",
    "- Biologically, this is like **cells dividing** until they **exhaust nutrients or space**.\n",
    "\n",
    "`while` loops are perfect for modeling **processes that continue until a limit or threshold is reached**.\n"
   ]
  },
  {
   "cell_type": "markdown",
   "id": "43604029",
   "metadata": {},
   "source": [
    "---\n",
    "## 🔹 7. Collections — lists and dictionaries\n",
    "- **Lists (`genes`, `expressions`)** store **ordered collections** of items, like a rack of samples or measured values.  \n",
    "- **Dictionaries (`gene_expression_map`)** store **key-value pairs**, mapping each gene name (**key**) to its expression value (**value**).  \n",
    "- **`zip()`** is used to combine two lists element-wise into pairs, perfect for creating mappings.  \n",
    "- You can access:\n",
    "  - Specific elements in a list by **index** (e.g., `genes[0]` → `'BRCA1'`).  \n",
    "  - Values in a dictionary by **key** (e.g., `gene_expression_map['TP53']` → `12.7`).  "
   ]
  },
  {
   "cell_type": "code",
   "execution_count": 34,
   "id": "53d71a57",
   "metadata": {},
   "outputs": [
    {
     "name": "stdout",
     "output_type": "stream",
     "text": [
      "First gene in the list: BRCA1\n",
      "Gene expression mapping: {'BRCA1': 15.4, 'TP53': 12.7, 'MYC': 9.8}\n"
     ]
    }
   ],
   "source": [
    "# Example — Using Lists and Dictionaries to Organize Biological Data\n",
    "\n",
    "# List of gene names\n",
    "genes = ['BRCA1', 'TP53', 'MYC']\n",
    "\n",
    "# Corresponding gene expression values\n",
    "expressions = [15.4, 12.7, 9.8]\n",
    "\n",
    "# Combine the two lists into a dictionary (mapping gene -> expression)\n",
    "gene_expression_map = dict(zip(genes, expressions))\n",
    "\n",
    "# Accessing the first gene in the list\n",
    "print(f\"First gene in the list: {genes[0]}\")\n",
    "\n",
    "# Print the full gene -> expression mapping\n",
    "print(\"Gene expression mapping:\", gene_expression_map)\n"
   ]
  },
  {
   "cell_type": "markdown",
   "id": "1ba37786",
   "metadata": {},
   "source": [
    "**Analogy:**  \n",
    "Think of a dictionary as a set of labeled tubes in the lab — each label points to the content inside, just like a gene name maps to its measured expression."
   ]
  },
  {
   "cell_type": "markdown",
   "id": "8f31876a",
   "metadata": {},
   "source": [
    "---\n",
    "## 🔹 8. Visualization — plotting experimental results\n",
    "Visualizing Gene Expression — Bar Plot\n",
    "\n",
    "- **`plt.figure(figsize=(6,4))`**: Sets the size of the plot for clarity.  \n",
    "- **`plt.bar(genes, expressions)`**: Creates a **bar chart**, mapping each gene (x-axis) to its expression level (y-axis).  \n",
    "- **`plt.xlabel()` and `plt.ylabel()`**: Label the axes for readability.  \n",
    "- **`plt.title()`**: Adds a descriptive title to the chart.  \n",
    "- **`plt.tight_layout()`**: Adjusts spacing so labels and title are not cut off.  \n",
    "- **`plt.show()`**: Renders the figure in the notebook.\n",
    "\n",
    "\n",
    "**Note:** If you don't have matplotlib installed, remove the comment from the next code cell, and run it. It should install it!"
   ]
  },
  {
   "cell_type": "code",
   "execution_count": 35,
   "id": "9d69ec6f",
   "metadata": {},
   "outputs": [],
   "source": [
    "## Remove the comment from the code below to install matplotlib.\n",
    "\n",
    "#!pip install matplotlib --quiet"
   ]
  },
  {
   "cell_type": "code",
   "execution_count": 36,
   "id": "e6d98a99",
   "metadata": {},
   "outputs": [
    {
     "data": {
      "image/png": "[encoded data removed]",
      "text/plain": [
       "<Figure size 600x400 with 1 Axes>"
      ]
     },
     "metadata": {},
     "output_type": "display_data"
    }
   ],
   "source": [
    "# Example — Visualizing Gene Expression with a Bar Plot\n",
    "\n",
    "import matplotlib.pyplot as plt\n",
    "\n",
    "# Set up the figure size\n",
    "plt.figure(figsize=(6, 4))\n",
    "\n",
    "# Create a bar chart: genes on x-axis, expressions on y-axis\n",
    "plt.bar(genes, expressions, color='skyblue', edgecolor='black')\n",
    "\n",
    "# Label the axes\n",
    "plt.xlabel('Gene')\n",
    "plt.ylabel('Expression Level')\n",
    "\n",
    "# Add a title\n",
    "plt.title('Example Gene Expression')\n",
    "\n",
    "# Adjust layout for better spacing\n",
    "plt.tight_layout()\n",
    "\n",
    "# Display the plot\n",
    "plt.show()\n"
   ]
  },
  {
   "cell_type": "markdown",
   "id": "e7be63ae",
   "metadata": {},
   "source": [
    "---\n",
    "## 🔹 9. Reading and Writing TSV Files with Pandas\n",
    "\n",
    "- **`pd.DataFrame()`**: Creates a table-like structure to hold gene expression data.  \n",
    "- **`.to_csv(..., sep='\\t')`**: Saves the DataFrame as a **tab-separated file (TSV)**.  \n",
    "  - `index=False` ensures row numbers are not included as a separate column.  \n",
    "- **`pd.read_csv(..., sep='\\t')`**: Reads a TSV file into a DataFrame.  \n",
    "- **`df_tsv['Expression'].mean()`**: Calculates the **average gene expression** across all genes.\n",
    "\n",
    "**Note:** If you don't have pandas installed, remove the comment from the next code cell, and run it. It should install it!"
   ]
  },
  {
   "cell_type": "code",
   "execution_count": 37,
   "id": "8dd8297b",
   "metadata": {},
   "outputs": [],
   "source": [
    "## Remove the comment from the code below to install pandas.\n",
    "\n",
    "#!pip install pandas --quiet"
   ]
  },
  {
   "cell_type": "code",
   "execution_count": 38,
   "id": "e29bfea9",
   "metadata": {},
   "outputs": [
    {
     "name": "stdout",
     "output_type": "stream",
     "text": [
      "Gene Expression Data (TSV):\n",
      "     Gene  Expression\n",
      "0  BRCA1        15.4\n",
      "1   TP53        12.7\n",
      "2    MYC         9.8\n",
      "3  GAPDH        20.1\n",
      "\n",
      "Mean expression level: 14.500000000000002\n"
     ]
    }
   ],
   "source": [
    "# Example — Creating and Reading a TSV with Gene Expression Data\n",
    "\n",
    "import pandas as pd\n",
    "\n",
    "# Path to the TSV file\n",
    "sample_tsv_path = 'sample_gene_expression.tsv'\n",
    "\n",
    "# Create a sample gene expression dataset\n",
    "sample_df = pd.DataFrame({\n",
    "    'Gene': ['BRCA1', 'TP53', 'MYC', 'GAPDH'],\n",
    "    'Expression': [15.4, 12.7, 9.8, 20.1]\n",
    "})\n",
    "\n",
    "# Save the dataset as a TSV file (tab-separated)\n",
    "sample_df.to_csv(sample_tsv_path, sep='\\t', index=False)\n",
    "\n",
    "# Read the TSV file back into a DataFrame\n",
    "df_tsv = pd.read_csv(sample_tsv_path, sep='\\t')\n",
    "\n",
    "# Display the dataset\n",
    "print(\"Gene Expression Data (TSV):\\n\", df_tsv)\n",
    "\n",
    "# Calculate and display the mean expression level\n",
    "print(\"\\nMean expression level:\", df_tsv['Expression'].mean())\n"
   ]
  },
  {
   "cell_type": "markdown",
   "id": "3183602b",
   "metadata": {},
   "source": [
    "💡 **Biological Analogy:**  \n",
    "TSV files are common in bioinformatics (e.g., for RNA-Seq or expression tables).  \n",
    "This workflow allows you to **export experimental data, read it back, and quickly compute statistics**."
   ]
  },
  {
   "cell_type": "markdown",
   "id": "accdc2a1",
   "metadata": {},
   "source": [
    "---\n",
    "\n",
    "## 📌 Appendix — Tips & Next Steps for Learning Programming\n",
    "\n",
    "As you continue exploring programming in a biological context, here are some **key tools and skills** that will make your life much easier:\n",
    "\n",
    "- **💻 Biopython**  \n",
    "  - Install with: `pip install biopython`  \n",
    "  - **Why:** Biopython provides specialized tools to work with biological data, such as **FASTA/FASTQ files**, **sequence manipulation**, **BLAST searches**, and **genome parsing**.  \n",
    "  - **Use cases:** Reading and analyzing DNA/RNA sequences, extracting motifs, performing simple bioinformatics analyses without having to write everything from scratch.\n",
    "\n",
    "- **📊 Pandas**  \n",
    "  - **Why:** Pandas is a Python library designed for **efficient table manipulation and data analysis**.  \n",
    "  - **Use cases:** Loading CSV/TSV data from experiments, filtering rows, summarizing gene expression, computing statistics, and preparing datasets for visualization or further analysis.\n",
    "\n",
    "- **⚡ NumPy**  \n",
    "  - **Why:** NumPy provides fast, efficient operations on **numerical arrays**. It’s the backbone for most scientific computing in Python.  \n",
    "  - **Use cases:** Handling large-scale numeric data, performing mathematical operations on arrays (e.g., log-transforming gene expression, computing correlation matrices), and speeding up computations compared to native Python lists.\n",
    "\n",
    "- **📈 Matplotlib & Seaborn**  \n",
    "  - **Why:** These libraries allow you to **visualize data** clearly and professionally.  \n",
    "  - **Use cases:** Plotting gene expression barplots, heatmaps, scatter plots, growth curves, or any experimental results to spot trends and patterns.\n",
    "\n",
    "- **🧪 Practice with real biological datasets**  \n",
    "  - Download datasets from **NCBI, Ensembl, GEO, or ArrayExpress**.  \n",
    "  - Start small: analyze one gene or a small sample set before scaling up.  \n",
    "  - Try combining **sequence analysis, tables, and plots** to get a complete workflow.\n",
    "\n",
    "- **📚 Continuous Learning**  \n",
    "  - Follow tutorials for **Python for Biologists**.  \n",
    "  - Explore bioinformatics pipelines, automation scripts, and reproducible analyses.  \n",
    "  - Experiment, fail, and iterate — programming is learned by doing, just like lab experiments!\n",
    "\n",
    "> 💡 **Pro tip:** Start with **TSV files** for bioinformatics workflows — they are more robust for automated scripts, unlike CSVs which can break if text contains commas.  \n",
    "\n"
   ]
  }
 ],
 "metadata": {
  "kernelspec": {
   "display_name": "Python 3",
   "language": "python",
   "name": "python3"
  },
  "language_info": {
   "codemirror_mode": {
    "name": "ipython",
    "version": 3
   },
   "file_extension": ".py",
   "mimetype": "text/x-python",
   "name": "python",
   "nbconvert_exporter": "python",
   "pygments_lexer": "ipython3",
   "version": "3.13.7"
  }
 },
 "nbformat": 4,
 "nbformat_minor": 5
}
